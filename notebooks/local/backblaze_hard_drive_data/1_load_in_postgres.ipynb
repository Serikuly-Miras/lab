{
 "cells": [
  {
   "cell_type": "markdown",
   "id": "d69fb68a",
   "metadata": {},
   "source": [
    "## Check database connectivity"
   ]
  },
  {
   "cell_type": "code",
   "execution_count": 22,
   "id": "f2789071",
   "metadata": {},
   "outputs": [
    {
     "name": "stdout",
     "output_type": "stream",
     "text": [
      "Note: you may need to restart the kernel to use updated packages.\n"
     ]
    }
   ],
   "source": [
    "%pip install connectorx adbc_driver_postgresql psycopg2-binary --quiet"
   ]
  },
  {
   "cell_type": "code",
   "execution_count": 23,
   "id": "55e6c90a",
   "metadata": {},
   "outputs": [
    {
     "name": "stdout",
     "output_type": "stream",
     "text": [
      "Note: you may need to restart the kernel to use updated packages.\n"
     ]
    }
   ],
   "source": [
    "%pip install --upgrade s3fs --quiet"
   ]
  },
  {
   "cell_type": "code",
   "execution_count": 24,
   "id": "6626432f",
   "metadata": {},
   "outputs": [],
   "source": [
    "import polars as pl\n",
    "from dotenv import load_dotenv\n",
    "import os\n",
    "import boto3\n",
    "\n",
    "load_dotenv()\n",
    "\n",
    "POSTGRES_CONN_STR = os.getenv(\"POSTGRES_CONN_STR\")\n",
    "\n",
    "storage_options = {\n",
    "    \"endpoint_url\": os.getenv(\"S3_AWS_URL\"),\n",
    "    \"aws_access_key_id\": os.getenv(\"S3_AWS_ACCESS_KEY_ID\"),\n",
    "    \"aws_secret_access_key\": os.getenv(\"S3_AWS_SECRET_ACCESS_KEY\"),\n",
    "}\n",
    "\n",
    "s3 = boto3.client(\n",
    "    \"s3\",\n",
    "    endpoint_url=os.getenv(\"S3_AWS_URL\"),\n",
    "    aws_access_key_id=os.getenv(\"S3_AWS_ACCESS_KEY_ID\"),\n",
    "    aws_secret_access_key=os.getenv(\"S3_AWS_SECRET_ACCESS_KEY\"),\n",
    "    verify=False,\n",
    ")"
   ]
  },
  {
   "cell_type": "code",
   "execution_count": 25,
   "id": "20804dde",
   "metadata": {},
   "outputs": [
    {
     "name": "stdout",
     "output_type": "stream",
     "text": [
      "ADBC - ok\n",
      "ConnectorX - ok\n"
     ]
    }
   ],
   "source": [
    "print(\n",
    "    \"ADBC - \",\n",
    "    \"ok\"\n",
    "    if pl.read_database_uri(\n",
    "        uri=POSTGRES_CONN_STR, query=\"SELECT 1 as test;\", engine=\"adbc\"\n",
    "    )[\"test\"].min()\n",
    "    == 1\n",
    "    else \"fail\",\n",
    "    sep=\"\",\n",
    ")\n",
    "\n",
    "print(\n",
    "    \"ConnectorX - \",\n",
    "    \"ok\"\n",
    "    if pl.read_database_uri(\n",
    "        uri=POSTGRES_CONN_STR,\n",
    "        query=\"SELECT 1 as test;\",\n",
    "        engine=\"connectorx\",\n",
    "    )[\"test\"].min()\n",
    "    == 1\n",
    "    else \"fail\",\n",
    "    sep=\"\",\n",
    ")"
   ]
  },
  {
   "cell_type": "markdown",
   "id": "bfb36b38",
   "metadata": {},
   "source": [
    "## Sample load speed for 1 csv file (~ 125MB)"
   ]
  },
  {
   "cell_type": "code",
   "execution_count": 26,
   "id": "bbcd323e",
   "metadata": {},
   "outputs": [
    {
     "name": "stdout",
     "output_type": "stream",
     "text": [
      "181 filles\n"
     ]
    }
   ],
   "source": [
    "objects = s3.list_objects_v2(\n",
    "    Bucket=\"data-raw\", Prefix=\"Backblaze-Hard-Drive-Data/\").get(\"Contents\", [])\n",
    "print(f\"{len(objects)} filles\") "
   ]
  },
  {
   "cell_type": "code",
   "execution_count": 27,
   "id": "364708e2",
   "metadata": {},
   "outputs": [],
   "source": [
    "# ~1.2s\n",
    "df = pl.scan_csv(\n",
    "    f\"s3://data-raw/{objects[0]['Key']}\",\n",
    "    storage_options=storage_options\n",
    ").collect()"
   ]
  },
  {
   "cell_type": "code",
   "execution_count": 28,
   "id": "300ca1b9",
   "metadata": {},
   "outputs": [],
   "source": [
    "smart_columns = [col for col in df.columns if col.startswith(\n",
    "    'smart_') and ('_raw' in col or '_normalized' in col)]\n",
    "\n",
    "cols = [pl.col(col).cast(pl.Int64) for col in smart_columns]\n",
    "cols.append(pl.col(\"date\").cast(pl.Date))\n",
    "\n",
    "df = df.with_columns(cols)"
   ]
  },
  {
   "cell_type": "code",
   "execution_count": 29,
   "id": "d216c7c2",
   "metadata": {},
   "outputs": [
    {
     "data": {
      "text/plain": [
       "304957"
      ]
     },
     "execution_count": 29,
     "metadata": {},
     "output_type": "execute_result"
    }
   ],
   "source": [
    "# default\n",
    "# ~4s\n",
    "df.write_database(\n",
    "    connection=POSTGRES_CONN_STR,\n",
    "    table_name=\"raw.hard_drive_data_test\",\n",
    "    if_table_exists=\"replace\",\n",
    "    engine=\"adbc\",\n",
    ")"
   ]
  },
  {
   "cell_type": "code",
   "execution_count": 30,
   "id": "239a3002",
   "metadata": {},
   "outputs": [
    {
     "data": {
      "text/plain": [
       "304957"
      ]
     },
     "execution_count": 30,
     "metadata": {},
     "output_type": "execute_result"
    }
   ],
   "source": [
    "# default\n",
    "# ~4s\n",
    "df.write_database(\n",
    "    connection=POSTGRES_CONN_STR,\n",
    "    table_name=\"raw.tbl-green\",\n",
    "    if_table_exists=\"replace\",\n",
    "    engine=\"adbc\",\n",
    ")\n",
    "df.write_database(\n",
    "    connection=POSTGRES_CONN_STR,\n",
    "    table_name=\"raw.tbl-blue\",\n",
    "    if_table_exists=\"replace\",\n",
    "    engine=\"adbc\",\n",
    ")"
   ]
  },
  {
   "cell_type": "markdown",
   "id": "3b91d980",
   "metadata": {},
   "source": [
    "## Load all data"
   ]
  },
  {
   "cell_type": "code",
   "execution_count": 11,
   "id": "da65e1cf",
   "metadata": {},
   "outputs": [
    {
     "name": "stdout",
     "output_type": "stream",
     "text": [
      "Processing 1/181: Backblaze-Hard-Drive-Data/data_Q1_2025/2025-01-01.csv\n",
      "Processing 2/181: Backblaze-Hard-Drive-Data/data_Q1_2025/2025-01-02.csv\n",
      "Processing 3/181: Backblaze-Hard-Drive-Data/data_Q1_2025/2025-01-03.csv\n",
      "Processing 4/181: Backblaze-Hard-Drive-Data/data_Q1_2025/2025-01-04.csv\n",
      "Processing 5/181: Backblaze-Hard-Drive-Data/data_Q1_2025/2025-01-05.csv\n",
      "Processing 6/181: Backblaze-Hard-Drive-Data/data_Q1_2025/2025-01-06.csv\n",
      "Processing 7/181: Backblaze-Hard-Drive-Data/data_Q1_2025/2025-01-07.csv\n",
      "Processing 8/181: Backblaze-Hard-Drive-Data/data_Q1_2025/2025-01-08.csv\n",
      "Processing 9/181: Backblaze-Hard-Drive-Data/data_Q1_2025/2025-01-09.csv\n",
      "Processing 10/181: Backblaze-Hard-Drive-Data/data_Q1_2025/2025-01-10.csv\n",
      "Processing 11/181: Backblaze-Hard-Drive-Data/data_Q1_2025/2025-01-11.csv\n",
      "Processing 12/181: Backblaze-Hard-Drive-Data/data_Q1_2025/2025-01-12.csv\n",
      "Processing 13/181: Backblaze-Hard-Drive-Data/data_Q1_2025/2025-01-13.csv\n",
      "Processing 14/181: Backblaze-Hard-Drive-Data/data_Q1_2025/2025-01-14.csv\n",
      "Processing 15/181: Backblaze-Hard-Drive-Data/data_Q1_2025/2025-01-15.csv\n",
      "Processing 16/181: Backblaze-Hard-Drive-Data/data_Q1_2025/2025-01-16.csv\n",
      "Processing 17/181: Backblaze-Hard-Drive-Data/data_Q1_2025/2025-01-17.csv\n",
      "Processing 18/181: Backblaze-Hard-Drive-Data/data_Q1_2025/2025-01-18.csv\n",
      "Processing 19/181: Backblaze-Hard-Drive-Data/data_Q1_2025/2025-01-19.csv\n",
      "Processing 20/181: Backblaze-Hard-Drive-Data/data_Q1_2025/2025-01-20.csv\n",
      "Processing 21/181: Backblaze-Hard-Drive-Data/data_Q1_2025/2025-01-21.csv\n",
      "Processing 22/181: Backblaze-Hard-Drive-Data/data_Q1_2025/2025-01-22.csv\n",
      "Processing 23/181: Backblaze-Hard-Drive-Data/data_Q1_2025/2025-01-23.csv\n",
      "Processing 24/181: Backblaze-Hard-Drive-Data/data_Q1_2025/2025-01-24.csv\n",
      "Processing 25/181: Backblaze-Hard-Drive-Data/data_Q1_2025/2025-01-25.csv\n",
      "Processing 26/181: Backblaze-Hard-Drive-Data/data_Q1_2025/2025-01-26.csv\n",
      "Processing 27/181: Backblaze-Hard-Drive-Data/data_Q1_2025/2025-01-27.csv\n",
      "Processing 28/181: Backblaze-Hard-Drive-Data/data_Q1_2025/2025-01-28.csv\n",
      "Processing 29/181: Backblaze-Hard-Drive-Data/data_Q1_2025/2025-01-29.csv\n",
      "Processing 30/181: Backblaze-Hard-Drive-Data/data_Q1_2025/2025-01-30.csv\n",
      "Processing 31/181: Backblaze-Hard-Drive-Data/data_Q1_2025/2025-01-31.csv\n",
      "Processing 32/181: Backblaze-Hard-Drive-Data/data_Q1_2025/2025-02-01.csv\n",
      "Processing 33/181: Backblaze-Hard-Drive-Data/data_Q1_2025/2025-02-02.csv\n",
      "Processing 34/181: Backblaze-Hard-Drive-Data/data_Q1_2025/2025-02-03.csv\n",
      "Processing 35/181: Backblaze-Hard-Drive-Data/data_Q1_2025/2025-02-04.csv\n",
      "Processing 36/181: Backblaze-Hard-Drive-Data/data_Q1_2025/2025-02-05.csv\n",
      "Processing 37/181: Backblaze-Hard-Drive-Data/data_Q1_2025/2025-02-06.csv\n",
      "Processing 38/181: Backblaze-Hard-Drive-Data/data_Q1_2025/2025-02-07.csv\n",
      "Processing 39/181: Backblaze-Hard-Drive-Data/data_Q1_2025/2025-02-08.csv\n",
      "Processing 40/181: Backblaze-Hard-Drive-Data/data_Q1_2025/2025-02-09.csv\n",
      "Processing 41/181: Backblaze-Hard-Drive-Data/data_Q1_2025/2025-02-10.csv\n",
      "Processing 42/181: Backblaze-Hard-Drive-Data/data_Q1_2025/2025-02-11.csv\n",
      "Processing 43/181: Backblaze-Hard-Drive-Data/data_Q1_2025/2025-02-12.csv\n",
      "Processing 44/181: Backblaze-Hard-Drive-Data/data_Q1_2025/2025-02-13.csv\n",
      "Processing 45/181: Backblaze-Hard-Drive-Data/data_Q1_2025/2025-02-14.csv\n",
      "Processing 46/181: Backblaze-Hard-Drive-Data/data_Q1_2025/2025-02-15.csv\n",
      "Processing 47/181: Backblaze-Hard-Drive-Data/data_Q1_2025/2025-02-16.csv\n",
      "Processing 48/181: Backblaze-Hard-Drive-Data/data_Q1_2025/2025-02-17.csv\n",
      "Processing 49/181: Backblaze-Hard-Drive-Data/data_Q1_2025/2025-02-18.csv\n",
      "Processing 50/181: Backblaze-Hard-Drive-Data/data_Q1_2025/2025-02-19.csv\n",
      "Processing 51/181: Backblaze-Hard-Drive-Data/data_Q1_2025/2025-02-20.csv\n",
      "Processing 52/181: Backblaze-Hard-Drive-Data/data_Q1_2025/2025-02-21.csv\n",
      "Processing 53/181: Backblaze-Hard-Drive-Data/data_Q1_2025/2025-02-22.csv\n",
      "Processing 54/181: Backblaze-Hard-Drive-Data/data_Q1_2025/2025-02-23.csv\n",
      "Processing 55/181: Backblaze-Hard-Drive-Data/data_Q1_2025/2025-02-24.csv\n",
      "Processing 56/181: Backblaze-Hard-Drive-Data/data_Q1_2025/2025-02-25.csv\n",
      "Processing 57/181: Backblaze-Hard-Drive-Data/data_Q1_2025/2025-02-26.csv\n",
      "Processing 58/181: Backblaze-Hard-Drive-Data/data_Q1_2025/2025-02-27.csv\n",
      "Processing 59/181: Backblaze-Hard-Drive-Data/data_Q1_2025/2025-02-28.csv\n",
      "Processing 60/181: Backblaze-Hard-Drive-Data/data_Q1_2025/2025-03-01.csv\n",
      "Processing 61/181: Backblaze-Hard-Drive-Data/data_Q1_2025/2025-03-02.csv\n",
      "Processing 62/181: Backblaze-Hard-Drive-Data/data_Q1_2025/2025-03-03.csv\n",
      "Processing 63/181: Backblaze-Hard-Drive-Data/data_Q1_2025/2025-03-04.csv\n",
      "Processing 64/181: Backblaze-Hard-Drive-Data/data_Q1_2025/2025-03-05.csv\n",
      "Processing 65/181: Backblaze-Hard-Drive-Data/data_Q1_2025/2025-03-06.csv\n",
      "Processing 66/181: Backblaze-Hard-Drive-Data/data_Q1_2025/2025-03-07.csv\n",
      "Processing 67/181: Backblaze-Hard-Drive-Data/data_Q1_2025/2025-03-08.csv\n",
      "Processing 68/181: Backblaze-Hard-Drive-Data/data_Q1_2025/2025-03-09.csv\n",
      "Processing 69/181: Backblaze-Hard-Drive-Data/data_Q1_2025/2025-03-10.csv\n",
      "Processing 70/181: Backblaze-Hard-Drive-Data/data_Q1_2025/2025-03-11.csv\n",
      "Processing 71/181: Backblaze-Hard-Drive-Data/data_Q1_2025/2025-03-12.csv\n",
      "Processing 72/181: Backblaze-Hard-Drive-Data/data_Q1_2025/2025-03-13.csv\n",
      "Processing 73/181: Backblaze-Hard-Drive-Data/data_Q1_2025/2025-03-14.csv\n",
      "Processing 74/181: Backblaze-Hard-Drive-Data/data_Q1_2025/2025-03-15.csv\n",
      "Processing 75/181: Backblaze-Hard-Drive-Data/data_Q1_2025/2025-03-16.csv\n",
      "Processing 76/181: Backblaze-Hard-Drive-Data/data_Q1_2025/2025-03-17.csv\n",
      "Processing 77/181: Backblaze-Hard-Drive-Data/data_Q1_2025/2025-03-18.csv\n",
      "Processing 78/181: Backblaze-Hard-Drive-Data/data_Q1_2025/2025-03-19.csv\n",
      "Processing 79/181: Backblaze-Hard-Drive-Data/data_Q1_2025/2025-03-20.csv\n",
      "Processing 80/181: Backblaze-Hard-Drive-Data/data_Q1_2025/2025-03-21.csv\n",
      "Processing 81/181: Backblaze-Hard-Drive-Data/data_Q1_2025/2025-03-22.csv\n",
      "Processing 82/181: Backblaze-Hard-Drive-Data/data_Q1_2025/2025-03-23.csv\n",
      "Processing 83/181: Backblaze-Hard-Drive-Data/data_Q1_2025/2025-03-24.csv\n",
      "Processing 84/181: Backblaze-Hard-Drive-Data/data_Q1_2025/2025-03-25.csv\n",
      "Processing 85/181: Backblaze-Hard-Drive-Data/data_Q1_2025/2025-03-26.csv\n",
      "Processing 86/181: Backblaze-Hard-Drive-Data/data_Q1_2025/2025-03-27.csv\n",
      "Processing 87/181: Backblaze-Hard-Drive-Data/data_Q1_2025/2025-03-28.csv\n",
      "Processing 88/181: Backblaze-Hard-Drive-Data/data_Q1_2025/2025-03-29.csv\n",
      "Processing 89/181: Backblaze-Hard-Drive-Data/data_Q1_2025/2025-03-30.csv\n",
      "Processing 90/181: Backblaze-Hard-Drive-Data/data_Q1_2025/2025-03-31.csv\n",
      "Processing 91/181: Backblaze-Hard-Drive-Data/data_Q2_2025/2025-04-01.csv\n",
      "Processing 92/181: Backblaze-Hard-Drive-Data/data_Q2_2025/2025-04-02.csv\n",
      "Processing 93/181: Backblaze-Hard-Drive-Data/data_Q2_2025/2025-04-03.csv\n",
      "Processing 94/181: Backblaze-Hard-Drive-Data/data_Q2_2025/2025-04-04.csv\n",
      "Processing 95/181: Backblaze-Hard-Drive-Data/data_Q2_2025/2025-04-05.csv\n",
      "Processing 96/181: Backblaze-Hard-Drive-Data/data_Q2_2025/2025-04-06.csv\n",
      "Processing 97/181: Backblaze-Hard-Drive-Data/data_Q2_2025/2025-04-07.csv\n",
      "Processing 98/181: Backblaze-Hard-Drive-Data/data_Q2_2025/2025-04-08.csv\n",
      "Processing 99/181: Backblaze-Hard-Drive-Data/data_Q2_2025/2025-04-09.csv\n",
      "Processing 100/181: Backblaze-Hard-Drive-Data/data_Q2_2025/2025-04-10.csv\n",
      "Processing 101/181: Backblaze-Hard-Drive-Data/data_Q2_2025/2025-04-11.csv\n",
      "Processing 102/181: Backblaze-Hard-Drive-Data/data_Q2_2025/2025-04-12.csv\n",
      "Processing 103/181: Backblaze-Hard-Drive-Data/data_Q2_2025/2025-04-13.csv\n",
      "Processing 104/181: Backblaze-Hard-Drive-Data/data_Q2_2025/2025-04-14.csv\n",
      "Processing 105/181: Backblaze-Hard-Drive-Data/data_Q2_2025/2025-04-15.csv\n",
      "Processing 106/181: Backblaze-Hard-Drive-Data/data_Q2_2025/2025-04-16.csv\n",
      "Processing 107/181: Backblaze-Hard-Drive-Data/data_Q2_2025/2025-04-17.csv\n",
      "Processing 108/181: Backblaze-Hard-Drive-Data/data_Q2_2025/2025-04-18.csv\n",
      "Processing 109/181: Backblaze-Hard-Drive-Data/data_Q2_2025/2025-04-19.csv\n",
      "Processing 110/181: Backblaze-Hard-Drive-Data/data_Q2_2025/2025-04-20.csv\n",
      "Processing 111/181: Backblaze-Hard-Drive-Data/data_Q2_2025/2025-04-21.csv\n",
      "Processing 112/181: Backblaze-Hard-Drive-Data/data_Q2_2025/2025-04-22.csv\n",
      "Processing 113/181: Backblaze-Hard-Drive-Data/data_Q2_2025/2025-04-23.csv\n",
      "Processing 114/181: Backblaze-Hard-Drive-Data/data_Q2_2025/2025-04-24.csv\n",
      "Processing 115/181: Backblaze-Hard-Drive-Data/data_Q2_2025/2025-04-25.csv\n",
      "Processing 116/181: Backblaze-Hard-Drive-Data/data_Q2_2025/2025-04-26.csv\n",
      "Processing 117/181: Backblaze-Hard-Drive-Data/data_Q2_2025/2025-04-27.csv\n",
      "Processing 118/181: Backblaze-Hard-Drive-Data/data_Q2_2025/2025-04-28.csv\n",
      "Processing 119/181: Backblaze-Hard-Drive-Data/data_Q2_2025/2025-04-29.csv\n",
      "Processing 120/181: Backblaze-Hard-Drive-Data/data_Q2_2025/2025-04-30.csv\n",
      "Processing 121/181: Backblaze-Hard-Drive-Data/data_Q2_2025/2025-05-01.csv\n",
      "Processing 122/181: Backblaze-Hard-Drive-Data/data_Q2_2025/2025-05-02.csv\n",
      "Processing 123/181: Backblaze-Hard-Drive-Data/data_Q2_2025/2025-05-03.csv\n",
      "Processing 124/181: Backblaze-Hard-Drive-Data/data_Q2_2025/2025-05-04.csv\n",
      "Processing 125/181: Backblaze-Hard-Drive-Data/data_Q2_2025/2025-05-05.csv\n",
      "Processing 126/181: Backblaze-Hard-Drive-Data/data_Q2_2025/2025-05-06.csv\n",
      "Processing 127/181: Backblaze-Hard-Drive-Data/data_Q2_2025/2025-05-07.csv\n",
      "Processing 128/181: Backblaze-Hard-Drive-Data/data_Q2_2025/2025-05-08.csv\n",
      "Processing 129/181: Backblaze-Hard-Drive-Data/data_Q2_2025/2025-05-09.csv\n",
      "Processing 130/181: Backblaze-Hard-Drive-Data/data_Q2_2025/2025-05-10.csv\n",
      "Processing 131/181: Backblaze-Hard-Drive-Data/data_Q2_2025/2025-05-11.csv\n",
      "Processing 132/181: Backblaze-Hard-Drive-Data/data_Q2_2025/2025-05-12.csv\n",
      "Processing 133/181: Backblaze-Hard-Drive-Data/data_Q2_2025/2025-05-13.csv\n",
      "Processing 134/181: Backblaze-Hard-Drive-Data/data_Q2_2025/2025-05-14.csv\n",
      "Processing 135/181: Backblaze-Hard-Drive-Data/data_Q2_2025/2025-05-15.csv\n",
      "Processing 136/181: Backblaze-Hard-Drive-Data/data_Q2_2025/2025-05-16.csv\n",
      "Processing 137/181: Backblaze-Hard-Drive-Data/data_Q2_2025/2025-05-17.csv\n",
      "Processing 138/181: Backblaze-Hard-Drive-Data/data_Q2_2025/2025-05-18.csv\n",
      "Processing 139/181: Backblaze-Hard-Drive-Data/data_Q2_2025/2025-05-19.csv\n",
      "Processing 140/181: Backblaze-Hard-Drive-Data/data_Q2_2025/2025-05-20.csv\n",
      "Processing 141/181: Backblaze-Hard-Drive-Data/data_Q2_2025/2025-05-21.csv\n",
      "Processing 142/181: Backblaze-Hard-Drive-Data/data_Q2_2025/2025-05-22.csv\n",
      "Processing 143/181: Backblaze-Hard-Drive-Data/data_Q2_2025/2025-05-23.csv\n",
      "Processing 144/181: Backblaze-Hard-Drive-Data/data_Q2_2025/2025-05-24.csv\n",
      "Processing 145/181: Backblaze-Hard-Drive-Data/data_Q2_2025/2025-05-25.csv\n",
      "Processing 146/181: Backblaze-Hard-Drive-Data/data_Q2_2025/2025-05-26.csv\n",
      "Processing 147/181: Backblaze-Hard-Drive-Data/data_Q2_2025/2025-05-27.csv\n",
      "Processing 148/181: Backblaze-Hard-Drive-Data/data_Q2_2025/2025-05-28.csv\n",
      "Processing 149/181: Backblaze-Hard-Drive-Data/data_Q2_2025/2025-05-29.csv\n",
      "Processing 150/181: Backblaze-Hard-Drive-Data/data_Q2_2025/2025-05-30.csv\n",
      "Processing 151/181: Backblaze-Hard-Drive-Data/data_Q2_2025/2025-05-31.csv\n",
      "Processing 152/181: Backblaze-Hard-Drive-Data/data_Q2_2025/2025-06-01.csv\n",
      "Processing 153/181: Backblaze-Hard-Drive-Data/data_Q2_2025/2025-06-02.csv\n",
      "Processing 154/181: Backblaze-Hard-Drive-Data/data_Q2_2025/2025-06-03.csv\n",
      "Processing 155/181: Backblaze-Hard-Drive-Data/data_Q2_2025/2025-06-04.csv\n",
      "Processing 156/181: Backblaze-Hard-Drive-Data/data_Q2_2025/2025-06-05.csv\n",
      "Processing 157/181: Backblaze-Hard-Drive-Data/data_Q2_2025/2025-06-06.csv\n",
      "Processing 158/181: Backblaze-Hard-Drive-Data/data_Q2_2025/2025-06-07.csv\n",
      "Processing 159/181: Backblaze-Hard-Drive-Data/data_Q2_2025/2025-06-08.csv\n",
      "Processing 160/181: Backblaze-Hard-Drive-Data/data_Q2_2025/2025-06-09.csv\n",
      "Processing 161/181: Backblaze-Hard-Drive-Data/data_Q2_2025/2025-06-10.csv\n",
      "Processing 162/181: Backblaze-Hard-Drive-Data/data_Q2_2025/2025-06-11.csv\n",
      "Processing 163/181: Backblaze-Hard-Drive-Data/data_Q2_2025/2025-06-12.csv\n",
      "Processing 164/181: Backblaze-Hard-Drive-Data/data_Q2_2025/2025-06-13.csv\n",
      "Processing 165/181: Backblaze-Hard-Drive-Data/data_Q2_2025/2025-06-14.csv\n",
      "Processing 166/181: Backblaze-Hard-Drive-Data/data_Q2_2025/2025-06-15.csv\n",
      "Processing 167/181: Backblaze-Hard-Drive-Data/data_Q2_2025/2025-06-16.csv\n",
      "Processing 168/181: Backblaze-Hard-Drive-Data/data_Q2_2025/2025-06-17.csv\n",
      "Processing 169/181: Backblaze-Hard-Drive-Data/data_Q2_2025/2025-06-18.csv\n",
      "Processing 170/181: Backblaze-Hard-Drive-Data/data_Q2_2025/2025-06-19.csv\n",
      "Processing 171/181: Backblaze-Hard-Drive-Data/data_Q2_2025/2025-06-20.csv\n",
      "Processing 172/181: Backblaze-Hard-Drive-Data/data_Q2_2025/2025-06-21.csv\n",
      "Processing 173/181: Backblaze-Hard-Drive-Data/data_Q2_2025/2025-06-22.csv\n",
      "Processing 174/181: Backblaze-Hard-Drive-Data/data_Q2_2025/2025-06-23.csv\n",
      "Processing 175/181: Backblaze-Hard-Drive-Data/data_Q2_2025/2025-06-24.csv\n",
      "Processing 176/181: Backblaze-Hard-Drive-Data/data_Q2_2025/2025-06-25.csv\n",
      "Processing 177/181: Backblaze-Hard-Drive-Data/data_Q2_2025/2025-06-26.csv\n",
      "Processing 178/181: Backblaze-Hard-Drive-Data/data_Q2_2025/2025-06-27.csv\n",
      "Processing 179/181: Backblaze-Hard-Drive-Data/data_Q2_2025/2025-06-28.csv\n",
      "Processing 180/181: Backblaze-Hard-Drive-Data/data_Q2_2025/2025-06-29.csv\n",
      "Processing 181/181: Backblaze-Hard-Drive-Data/data_Q2_2025/2025-06-30.csv\n"
     ]
    }
   ],
   "source": [
    "objects = s3.list_objects_v2(\n",
    "    Bucket=\"data-raw\", Prefix=\"Backblaze-Hard-Drive-Data/\").get(\"Contents\", [])\n",
    "\n",
    "df = pl.scan_csv(\n",
    "    f\"s3://data-raw/{objects[0]['Key']}\",\n",
    "    storage_options=storage_options\n",
    ").collect()\n",
    "\n",
    "smart_columns = [col for col in df.columns if col.startswith(\n",
    "    'smart_') and ('_raw' in col or '_normalized' in col)]\n",
    "\n",
    "cols = [pl.col(col).cast(pl.Int64) for col in smart_columns]\n",
    "cols.append(pl.col(\"date\").cast(pl.Date))\n",
    "\n",
    "for (i, obj) in enumerate(objects):\n",
    "    print(f\"Processing {i+1}/{len(objects)}: {obj['Key']}\")\n",
    "    df = pl.scan_csv(\n",
    "        f\"s3://data-raw/{obj['Key']}\",\n",
    "        storage_options=storage_options\n",
    "    ).with_columns(cols).collect()\n",
    "\n",
    "    df.write_database(\n",
    "        connection=POSTGRES_CONN_STR,\n",
    "        table_name=\"raw.hard_drive_data\",\n",
    "        if_table_exists=\"replace\" if i == 0 else \"append\",\n",
    "        engine=\"adbc\",\n",
    "    )"
   ]
  }
 ],
 "metadata": {
  "kernelspec": {
   "display_name": "Python 3 (ipykernel)",
   "language": "python",
   "name": "python3"
  }
 },
 "nbformat": 4,
 "nbformat_minor": 5
}
