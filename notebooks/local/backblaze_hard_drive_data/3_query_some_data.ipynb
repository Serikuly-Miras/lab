{
 "cells": [
  {
   "cell_type": "markdown",
   "id": "ab00b6de",
   "metadata": {},
   "source": [
    "## Prep Postgres and Ducklake"
   ]
  },
  {
   "cell_type": "code",
   "execution_count": 3,
   "id": "2c2f741b",
   "metadata": {},
   "outputs": [
    {
     "name": "stdout",
     "output_type": "stream",
     "text": [
      "Note: you may need to restart the kernel to use updated packages.\n",
      "Note: you may need to restart the kernel to use updated packages.\n",
      "Note: you may need to restart the kernel to use updated packages.\n"
     ]
    }
   ],
   "source": [
    "%pip install duckdb --quiet\n",
    "%pip install --upgrade s3fs --quiet\n",
    "%pip install connectorx adbc_driver_postgresql psycopg2-binary --quiet"
   ]
  },
  {
   "cell_type": "code",
   "execution_count": 4,
   "id": "4d9317b2",
   "metadata": {},
   "outputs": [],
   "source": [
    "import os\n",
    "\n",
    "import duckdb\n",
    "import polars as pl\n",
    "from dotenv import load_dotenv\n",
    "\n",
    "load_dotenv()\n",
    "pass"
   ]
  },
  {
   "cell_type": "code",
   "execution_count": 5,
   "id": "947e7d40",
   "metadata": {},
   "outputs": [
    {
     "data": {
      "text/plain": [
       "<_duckdb.DuckDBPyConnection at 0x7ddafbfaf4f0>"
      ]
     },
     "execution_count": 5,
     "metadata": {},
     "output_type": "execute_result"
    }
   ],
   "source": [
    "con = duckdb.connect()\n",
    "con.execute(\"install ducklake;\")\n",
    "con.execute(\"install postgres;\")\n",
    "\n",
    "con.execute(\n",
    "    \"\"\"\n",
    "        CREATE SECRET (\n",
    "            TYPE postgres,\n",
    "            HOST '{host}',\n",
    "            PORT {port},\n",
    "            DATABASE {db},\n",
    "            USER '{user}',\n",
    "            PASSWORD '{password}'\n",
    "        );\n",
    "    \"\"\".format(\n",
    "        host=os.getenv(\"POSTGRES_HOST\"),\n",
    "        port=os.getenv(\"POSTGRES_PORT\"),\n",
    "        user=os.getenv(\"DUCKLAKE_PG_LOGIN\"),\n",
    "        password=os.getenv(\"DUCKLAKE_PG_PASS\"),\n",
    "        db=\"ducklake_catalog\",\n",
    "    )\n",
    ")\n",
    "\n",
    "con.execute(\n",
    "    \"\"\"\n",
    "        CREATE OR REPLACE SECRET secret (\n",
    "            TYPE s3,\n",
    "            ENDPOINT '{endpoint}',\n",
    "            KEY_ID '{key_id}',\n",
    "            SECRET '{secret}',\n",
    "            URL_STYLE 'path',\n",
    "            USE_SSL 'false'\n",
    "        );\n",
    "    \"\"\".format(\n",
    "        endpoint=\"seaweedfs-s3.seaweedfs:8333\",\n",
    "        key_id=os.getenv(\"S3_AWS_ACCESS_KEY_ID\"),\n",
    "        secret=os.getenv(\"S3_AWS_SECRET_ACCESS_KEY\"),\n",
    "    )\n",
    ")\n",
    "\n",
    "con.execute(\n",
    "    \"\"\"\n",
    "        ATTACH 'ducklake:postgres:dbname=ducklake_catalog host={host}' AS my_ducklake\n",
    "            (DATA_PATH 's3://ducklake/');\n",
    "        USE my_ducklake;\n",
    "    \"\"\".format(host=os.getenv(\"POSTGRES_HOST\"))\n",
    ")"
   ]
  },
  {
   "cell_type": "markdown",
   "id": "5e6d4702",
   "metadata": {},
   "source": [
    "## Run some queries agains hard drive data in DuckLake and PostgreSQL"
   ]
  },
  {
   "cell_type": "markdown",
   "id": "cf002d26",
   "metadata": {},
   "source": [
    "### Count"
   ]
  },
  {
   "cell_type": "code",
   "execution_count": 14,
   "id": "3f705338",
   "metadata": {},
   "outputs": [
    {
     "name": "stdout",
     "output_type": "stream",
     "text": [
      "CPU times: user 2.3 ms, sys: 1.18 ms, total: 3.48 ms\n",
      "Wall time: 9.6 ms\n"
     ]
    },
    {
     "data": {
      "text/html": [
       "<div><style>\n",
       ".dataframe > thead > tr,\n",
       ".dataframe > tbody > tr {\n",
       "  text-align: right;\n",
       "  white-space: pre-wrap;\n",
       "}\n",
       "</style>\n",
       "<small>shape: (1, 1)</small><table border=\"1\" class=\"dataframe\"><thead><tr><th>reltuples</th></tr><tr><td>i64</td></tr></thead><tbody><tr><td>56592856</td></tr></tbody></table></div>"
      ],
      "text/plain": [
       "shape: (1, 1)\n",
       "┌───────────┐\n",
       "│ reltuples │\n",
       "│ ---       │\n",
       "│ i64       │\n",
       "╞═══════════╡\n",
       "│ 56592856  │\n",
       "└───────────┘"
      ]
     },
     "execution_count": 14,
     "metadata": {},
     "output_type": "execute_result"
    }
   ],
   "source": [
    "%%time\n",
    "## estimate not precise but fast\n",
    "df = pl.read_database_uri(\n",
    "    query=\"SELECT reltuples::bigint FROM pg_class WHERE oid = 'raw.hard_drive_data'::regclass;\",\n",
    "    uri=os.getenv(\"POSTGRES_CONN_STR\"),\n",
    ")\n",
    "df"
   ]
  },
  {
   "cell_type": "code",
   "execution_count": 15,
   "id": "59993624",
   "metadata": {},
   "outputs": [
    {
     "name": "stdout",
     "output_type": "stream",
     "text": [
      "CPU times: user 138 ms, sys: 19.4 ms, total: 157 ms\n",
      "Wall time: 159 ms\n"
     ]
    },
    {
     "data": {
      "text/plain": [
       "[(56608028,)]"
      ]
     },
     "execution_count": 15,
     "metadata": {},
     "output_type": "execute_result"
    }
   ],
   "source": [
    "%%time\n",
    "con.execute(\n",
    "    \"\"\"\n",
    "        SELECT count(*)\n",
    "        FROM hard_drive_data;\n",
    "    \"\"\"\n",
    ").fetchall()"
   ]
  },
  {
   "cell_type": "markdown",
   "id": "44f6c021",
   "metadata": {},
   "source": [
    "### Top 3 models by total capacity on 2025-01-01\n",
    "\n",
    "Postgres has index on date"
   ]
  },
  {
   "cell_type": "code",
   "execution_count": 10,
   "id": "98b6c00e",
   "metadata": {},
   "outputs": [
    {
     "name": "stdout",
     "output_type": "stream",
     "text": [
      "CPU times: user 2 µs, sys: 0 ns, total: 2 µs\n",
      "Wall time: 4.77 µs\n"
     ]
    },
    {
     "data": {
      "text/html": [
       "<div><style>\n",
       ".dataframe > thead > tr,\n",
       ".dataframe > tbody > tr {\n",
       "  text-align: right;\n",
       "  white-space: pre-wrap;\n",
       "}\n",
       "</style>\n",
       "<small>shape: (3, 2)</small><table border=\"1\" class=\"dataframe\"><thead><tr><th>model</th><th>total_capacity_pib_per_model</th></tr><tr><td>str</td><td>f64</td></tr></thead><tbody><tr><td>&quot;WDC WUH722222ALE6L4&quot;</td><td>586.243143</td></tr><tr><td>&quot;TOSHIBA MG08ACA16TA&quot;</td><td>570.29949</td></tr><tr><td>&quot;ST16000NM001G&quot;</td><td>477.511597</td></tr></tbody></table></div>"
      ],
      "text/plain": [
       "shape: (3, 2)\n",
       "┌─────────────────────┬──────────────────────────────┐\n",
       "│ model               ┆ total_capacity_pib_per_model │\n",
       "│ ---                 ┆ ---                          │\n",
       "│ str                 ┆ f64                          │\n",
       "╞═════════════════════╪══════════════════════════════╡\n",
       "│ WDC WUH722222ALE6L4 ┆ 586.243143                   │\n",
       "│ TOSHIBA MG08ACA16TA ┆ 570.29949                    │\n",
       "│ ST16000NM001G       ┆ 477.511597                   │\n",
       "└─────────────────────┴──────────────────────────────┘"
      ]
     },
     "execution_count": 10,
     "metadata": {},
     "output_type": "execute_result"
    }
   ],
   "source": [
    "%time\n",
    "df = pl.read_database_uri(\n",
    "    query=\"\"\"\n",
    "        SELECT model, sum(capacity_bytes) / 1024^5 as total_capacity_pib_per_model\n",
    "        FROM raw.hard_drive_data\n",
    "        WHERE date = '2025-01-01'\n",
    "        GROUP BY model\n",
    "        ORDER BY total_capacity_pib_per_model DESC\n",
    "        LIMIT 3\n",
    "        \"\"\",\n",
    "    uri=os.getenv(\"POSTGRES_CONN_STR\"),\n",
    ")\n",
    "df"
   ]
  },
  {
   "cell_type": "code",
   "execution_count": 11,
   "id": "b15ee1a7",
   "metadata": {},
   "outputs": [
    {
     "name": "stdout",
     "output_type": "stream",
     "text": [
      "CPU times: user 2 µs, sys: 1e+03 ns, total: 3 µs\n",
      "Wall time: 5.01 µs\n"
     ]
    },
    {
     "data": {
      "application/vnd.microsoft.datawrangler.viewer.v0+json": {
       "columns": [
        {
         "name": "index",
         "rawType": "int64",
         "type": "integer"
        },
        {
         "name": "model",
         "rawType": "object",
         "type": "string"
        },
        {
         "name": "total_capacity_pib_per_model",
         "rawType": "float64",
         "type": "float"
        }
       ],
       "ref": "9c3957db-d370-4ab1-a904-9ce6446ab64f",
       "rows": [
        [
         "0",
         "WDC WUH722222ALE6L4",
         "586.243143081665"
        ],
        [
         "1",
         "TOSHIBA MG08ACA16TA",
         "570.2994899749756"
        ],
        [
         "2",
         "ST16000NM001G",
         "477.5115966796875"
        ]
       ],
       "shape": {
        "columns": 2,
        "rows": 3
       }
      },
      "text/html": [
       "<div>\n",
       "<style scoped>\n",
       "    .dataframe tbody tr th:only-of-type {\n",
       "        vertical-align: middle;\n",
       "    }\n",
       "\n",
       "    .dataframe tbody tr th {\n",
       "        vertical-align: top;\n",
       "    }\n",
       "\n",
       "    .dataframe thead th {\n",
       "        text-align: right;\n",
       "    }\n",
       "</style>\n",
       "<table border=\"1\" class=\"dataframe\">\n",
       "  <thead>\n",
       "    <tr style=\"text-align: right;\">\n",
       "      <th></th>\n",
       "      <th>model</th>\n",
       "      <th>total_capacity_pib_per_model</th>\n",
       "    </tr>\n",
       "  </thead>\n",
       "  <tbody>\n",
       "    <tr>\n",
       "      <th>0</th>\n",
       "      <td>WDC WUH722222ALE6L4</td>\n",
       "      <td>586.243143</td>\n",
       "    </tr>\n",
       "    <tr>\n",
       "      <th>1</th>\n",
       "      <td>TOSHIBA MG08ACA16TA</td>\n",
       "      <td>570.299490</td>\n",
       "    </tr>\n",
       "    <tr>\n",
       "      <th>2</th>\n",
       "      <td>ST16000NM001G</td>\n",
       "      <td>477.511597</td>\n",
       "    </tr>\n",
       "  </tbody>\n",
       "</table>\n",
       "</div>"
      ],
      "text/plain": [
       "                 model  total_capacity_pib_per_model\n",
       "0  WDC WUH722222ALE6L4                    586.243143\n",
       "1  TOSHIBA MG08ACA16TA                    570.299490\n",
       "2        ST16000NM001G                    477.511597"
      ]
     },
     "execution_count": 11,
     "metadata": {},
     "output_type": "execute_result"
    }
   ],
   "source": [
    "%time\n",
    "con.execute(\n",
    "    \"\"\"\n",
    "        SELECT model, sum(capacity_bytes) / 1024^5 as total_capacity_pib_per_model,\n",
    "        FROM hard_drive_data\n",
    "        WHERE date = '2025-01-01'\n",
    "        GROUP BY model\n",
    "        ORDER BY 2 DESC\n",
    "        LIMIT 3;\n",
    "    \"\"\"\n",
    ").fetch_df()"
   ]
  }
 ],
 "metadata": {
  "kernelspec": {
   "display_name": "Python 3 (ipykernel)",
   "language": "python",
   "name": "python3"
  },
  "language_info": {
   "codemirror_mode": {
    "name": "ipython",
    "version": 3
   },
   "file_extension": ".py",
   "mimetype": "text/x-python",
   "name": "python",
   "nbconvert_exporter": "python",
   "pygments_lexer": "ipython3",
   "version": "3.11.6"
  }
 },
 "nbformat": 4,
 "nbformat_minor": 5
}
