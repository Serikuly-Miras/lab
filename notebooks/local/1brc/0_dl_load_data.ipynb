{
 "cells": [
  {
   "cell_type": "code",
   "execution_count": null,
   "id": "499d9b3e",
   "metadata": {},
   "outputs": [
    {
     "name": "stdout",
     "output_type": "stream",
     "text": [
      "-rw-r--r-- 1 jovyan users 15G Oct 18 17:01 measurements.csv\n"
     ]
    }
   ],
   "source": [
    "# https://github.com/gunnarmorling/1brc\n",
    "# Thx for repo author/contributors for providing tools\n",
    "# Copy 1brc github repo and generate txt file using python script (or any other way provided in their repo)\n",
    "# Then copy into jupyter hub remote server\n",
    "%ls -lh measurements.csv"
   ]
  },
  {
   "cell_type": "code",
   "execution_count": 10,
   "id": "9841de26",
   "metadata": {},
   "outputs": [
    {
     "name": "stdout",
     "output_type": "stream",
     "text": [
      "Citrus Park;89.4\n",
      "Katsina;17.3\n",
      "Javānrūd;32.0\n",
      "Khānah Sūr;47.7\n",
      "Delmas;-71.7\n",
      "Matadepera;-53.9\n",
      "Gurupá;72.5\n",
      "Çerkezköy;-44.9\n",
      "Dylym;87.7\n",
      "Kyzyl-Adyr;85.2\n"
     ]
    }
   ],
   "source": [
    "!head measurements.csv"
   ]
  },
  {
   "cell_type": "code",
   "execution_count": 11,
   "id": "6197df76",
   "metadata": {},
   "outputs": [
    {
     "name": "stdout",
     "output_type": "stream",
     "text": [
      "Note: you may need to restart the kernel to use updated packages.\n"
     ]
    }
   ],
   "source": [
    "%pip install duckdb --quiet"
   ]
  },
  {
   "cell_type": "code",
   "execution_count": 12,
   "id": "4251a3e1",
   "metadata": {},
   "outputs": [],
   "source": [
    "import os\n",
    "\n",
    "import duckdb\n",
    "from dotenv import load_dotenv\n",
    "\n",
    "load_dotenv()\n",
    "pass"
   ]
  },
  {
   "cell_type": "code",
   "execution_count": 13,
   "id": "1aa485cb",
   "metadata": {},
   "outputs": [
    {
     "data": {
      "text/plain": [
       "<_duckdb.DuckDBPyConnection at 0x7303e03f7830>"
      ]
     },
     "execution_count": 13,
     "metadata": {},
     "output_type": "execute_result"
    }
   ],
   "source": [
    "con = duckdb.connect()\n",
    "con.execute(\"install ducklake;\")\n",
    "con.execute(\"install postgres;\")\n",
    "\n",
    "con.execute(\n",
    "    \"\"\"\n",
    "        CREATE SECRET (\n",
    "            TYPE postgres,\n",
    "            HOST '{host}',\n",
    "            PORT {port},\n",
    "            DATABASE {db},\n",
    "            USER '{user}',\n",
    "            PASSWORD '{password}'\n",
    "        );\n",
    "    \"\"\".format(\n",
    "        host=os.getenv(\"POSTGRES_HOST\"),\n",
    "        port=os.getenv(\"POSTGRES_PORT\"),\n",
    "        user=os.getenv(\"DUCKLAKE_PG_LOGIN\"),\n",
    "        password=os.getenv(\"DUCKLAKE_PG_PASS\"),\n",
    "        db=\"ducklake_catalog\",\n",
    "    )\n",
    ")\n",
    "\n",
    "con.execute(\n",
    "    \"\"\"\n",
    "        CREATE OR REPLACE SECRET secret (\n",
    "            TYPE s3,\n",
    "            ENDPOINT '{endpoint}',\n",
    "            KEY_ID '{key_id}',\n",
    "            SECRET '{secret}',\n",
    "            URL_STYLE 'path',\n",
    "            USE_SSL 'false'\n",
    "        );\n",
    "    \"\"\".format(\n",
    "        endpoint=\"seaweedfs-s3.seaweedfs:8333\",\n",
    "        key_id=os.getenv(\"S3_AWS_ACCESS_KEY_ID\"),\n",
    "        secret=os.getenv(\"S3_AWS_SECRET_ACCESS_KEY\"),\n",
    "    )\n",
    ")\n",
    "\n",
    "con.execute(\n",
    "    \"\"\"\n",
    "        ATTACH 'ducklake:postgres:dbname=ducklake_catalog host={host}' AS my_ducklake\n",
    "            (DATA_PATH 's3://ducklake/');\n",
    "        USE my_ducklake;\n",
    "    \"\"\".format(host=os.getenv(\"POSTGRES_HOST\"))\n",
    ")"
   ]
  },
  {
   "cell_type": "code",
   "execution_count": null,
   "id": "bf8cfef7",
   "metadata": {},
   "outputs": [],
   "source": [
    "is_created = (\n",
    "    con.execute(\n",
    "        \"\"\"\n",
    "            SELECT table_name, path\n",
    "            FROM __ducklake_metadata_my_ducklake.ducklake_table\n",
    "            WHERE table_name = 'brc_measurements' and end_snapshot IS NULL;\n",
    "        \"\"\"\n",
    "    )\n",
    "    .fetch_df()\n",
    "    .shape[0]\n",
    "    > 0\n",
    ")"
   ]
  },
  {
   "cell_type": "code",
   "execution_count": null,
   "id": "089baf32",
   "metadata": {},
   "outputs": [],
   "source": [
    "if not is_created:\n",
    "    con.execute(\n",
    "        \"\"\"\n",
    "            CREATE TABLE brc_measurements AS\n",
    "            FROM read_csv('measurements.csv', delim=';', header=False, names=['station', 'measurement']);\n",
    "        \"\"\"\n",
    "    ).fetch_df()"
   ]
  },
  {
   "cell_type": "code",
   "execution_count": 16,
   "id": "633aa33a",
   "metadata": {},
   "outputs": [
    {
     "data": {
      "text/plain": [
       "1000000000"
      ]
     },
     "execution_count": 16,
     "metadata": {},
     "output_type": "execute_result"
    }
   ],
   "source": [
    "con.execute(\n",
    "    \"\"\"\n",
    "        SELECT count(*)\n",
    "        FROM brc_measurements;\n",
    "    \"\"\"\n",
    ").fetchall()[0][0]"
   ]
  },
  {
   "cell_type": "code",
   "execution_count": null,
   "id": "c62eb5f7",
   "metadata": {},
   "outputs": [
    {
     "data": {
      "application/vnd.jupyter.widget-view+json": {
       "model_id": "ebb0fed951dd463d84e12b088c1180c5",
       "version_major": 2,
       "version_minor": 0
      },
      "text/plain": [
       "FloatProgress(value=0.0, layout=Layout(width='auto'), style=ProgressStyle(bar_color='black'))"
      ]
     },
     "metadata": {},
     "output_type": "display_data"
    },
    {
     "name": "stdout",
     "output_type": "stream",
     "text": [
      "CPU times: user 20.8 s, sys: 0 ns, total: 20.8 s\n",
      "Wall time: 21.9 s\n"
     ]
    },
    {
     "data": {
      "application/vnd.microsoft.datawrangler.viewer.v0+json": {
       "columns": [
        {
         "name": "index",
         "rawType": "int64",
         "type": "integer"
        },
        {
         "name": "station",
         "rawType": "object",
         "type": "string"
        },
        {
         "name": "min_measurement",
         "rawType": "float64",
         "type": "float"
        },
        {
         "name": "max_measurement",
         "rawType": "float64",
         "type": "float"
        },
        {
         "name": "avg_measurement",
         "rawType": "float64",
         "type": "float"
        }
       ],
       "ref": "3f80b397-23e2-45b9-afe8-52b917d4f546",
       "rows": [
        [
         "0",
         "A Yun Pa",
         "-99.9",
         "99.9",
         "0.02772862828018707"
        ],
        [
         "1",
         "Aadorf",
         "-99.9",
         "99.9",
         "-0.06843564277451893"
        ],
        [
         "2",
         "Aalsmeer",
         "-99.9",
         "99.9",
         "0.18394644807647886"
        ],
        [
         "3",
         "Aalten",
         "-99.9",
         "99.9",
         "-0.14816219136420203"
        ],
        [
         "4",
         "Aasiaat",
         "-99.9",
         "99.9",
         "0.24498732680806065"
        ],
        [
         "5",
         "Abaeté",
         "-99.9",
         "99.9",
         "0.09199002383862094"
        ],
        [
         "6",
         "Abaji",
         "-99.9",
         "99.9",
         "0.03173781694480472"
        ],
        [
         "7",
         "Abano Terme",
         "-99.9",
         "99.9",
         "0.3004134536832258"
        ],
        [
         "8",
         "Abarán",
         "-99.9",
         "99.9",
         "0.17386866281047778"
        ],
        [
         "9",
         "Abaré",
         "-99.9",
         "99.9",
         "-0.1889335490418777"
        ],
        [
         "10",
         "Abashiri",
         "-99.9",
         "99.9",
         "-0.15685987968810844"
        ],
        [
         "11",
         "Abay",
         "-99.9",
         "99.9",
         "-0.1789761506150261"
        ],
        [
         "12",
         "Abbottabad",
         "-99.9",
         "99.9",
         "-0.14004295334343644"
        ],
        [
         "13",
         "Aberbargoed",
         "-99.9",
         "99.9",
         "0.08039288361749374"
        ],
        [
         "14",
         "Aberdare",
         "-99.9",
         "99.9",
         "-0.12095610282652967"
        ],
        [
         "15",
         "Abertawe",
         "-99.9",
         "99.9",
         "-0.05504956227477366"
        ],
        [
         "16",
         "Aberystwyth",
         "-99.9",
         "99.9",
         "-0.11153996452941176"
        ],
        [
         "17",
         "Abhayāpuri",
         "-99.9",
         "99.9",
         "0.015093281526953134"
        ],
        [
         "18",
         "Abilene",
         "-99.9",
         "99.9",
         "-0.06483584658334658"
        ],
        [
         "19",
         "Abington",
         "-99.9",
         "99.9",
         "0.511676249887884"
        ],
        [
         "20",
         "Aboisso",
         "-99.9",
         "99.9",
         "-0.23854989303636717"
        ],
        [
         "21",
         "Aboso",
         "-99.9",
         "99.9",
         "0.2013233994698397"
        ],
        [
         "22",
         "Abovyan",
         "-99.9",
         "99.9",
         "0.13272300422381236"
        ],
        [
         "23",
         "Abra Pampa",
         "-99.9",
         "99.9",
         "0.05662445907996133"
        ],
        [
         "24",
         "Abrīsham",
         "-99.9",
         "99.9",
         "-0.2508730079182131"
        ],
        [
         "25",
         "Acahay",
         "-99.9",
         "99.9",
         "0.15431530610198735"
        ],
        [
         "26",
         "Acajutiba",
         "-99.9",
         "99.9",
         "-0.04905235785367719"
        ],
        [
         "27",
         "Acapulco de Juárez",
         "-99.9",
         "99.9",
         "0.021917160953050553"
        ],
        [
         "28",
         "Acari",
         "-99.9",
         "99.9",
         "0.14437501249775034"
        ],
        [
         "29",
         "Acará",
         "-99.9",
         "99.9",
         "0.23647863728018098"
        ],
        [
         "30",
         "Acate",
         "-99.9",
         "99.9",
         "-0.37659070937850336"
        ],
        [
         "31",
         "Accokeek",
         "-99.9",
         "99.9",
         "0.1795208231552284"
        ],
        [
         "32",
         "Accra",
         "-99.9",
         "99.9",
         "-0.025769038826229725"
        ],
        [
         "33",
         "Acevedo",
         "-99.9",
         "99.9",
         "0.1388608629765501"
        ],
        [
         "34",
         "Achacachi",
         "-99.9",
         "99.9",
         "0.07998537689549523"
        ],
        [
         "35",
         "Achaljāmu",
         "-99.9",
         "99.9",
         "0.22083026674358028"
        ],
        [
         "36",
         "Achères",
         "-99.9",
         "99.9",
         "0.04214371257485"
        ],
        [
         "37",
         "Acomb",
         "-99.9",
         "99.9",
         "-0.060265528213617484"
        ],
        [
         "38",
         "Aconibe",
         "-99.9",
         "99.9",
         "-0.131822233796412"
        ],
        [
         "39",
         "Acopiara",
         "-99.9",
         "99.9",
         "0.09708253819177211"
        ],
        [
         "40",
         "Acquaviva",
         "-99.9",
         "99.9",
         "0.2275699251730583"
        ],
        [
         "41",
         "Acton",
         "-99.9",
         "99.9",
         "-0.08226785595420345"
        ],
        [
         "42",
         "Acámbaro",
         "-99.9",
         "99.9",
         "0.19298626030477348"
        ],
        [
         "43",
         "Acıpayam",
         "-99.9",
         "99.9",
         "0.11476290477128438"
        ],
        [
         "44",
         "Ad Darwa",
         "-99.9",
         "99.9",
         "-0.21875549956003834"
        ],
        [
         "45",
         "Adaklı",
         "-99.9",
         "99.9",
         "-0.25860478121068076"
        ],
        [
         "46",
         "Adams",
         "-99.9",
         "99.9",
         "-0.20906209884467586"
        ],
        [
         "47",
         "Addis Ababa",
         "-99.9",
         "99.9",
         "0.01584288479087018"
        ],
        [
         "48",
         "Adeje",
         "-99.9",
         "99.9",
         "0.2680531507952491"
        ],
        [
         "49",
         "Adendorf",
         "-99.9",
         "99.9",
         "-0.013657605674014419"
        ]
       ],
       "shape": {
        "columns": 4,
        "rows": 8860
       }
      },
      "text/html": [
       "<div>\n",
       "<style scoped>\n",
       "    .dataframe tbody tr th:only-of-type {\n",
       "        vertical-align: middle;\n",
       "    }\n",
       "\n",
       "    .dataframe tbody tr th {\n",
       "        vertical-align: top;\n",
       "    }\n",
       "\n",
       "    .dataframe thead th {\n",
       "        text-align: right;\n",
       "    }\n",
       "</style>\n",
       "<table border=\"1\" class=\"dataframe\">\n",
       "  <thead>\n",
       "    <tr style=\"text-align: right;\">\n",
       "      <th></th>\n",
       "      <th>station</th>\n",
       "      <th>min_measurement</th>\n",
       "      <th>max_measurement</th>\n",
       "      <th>avg_measurement</th>\n",
       "    </tr>\n",
       "  </thead>\n",
       "  <tbody>\n",
       "    <tr>\n",
       "      <th>0</th>\n",
       "      <td>A Yun Pa</td>\n",
       "      <td>-99.9</td>\n",
       "      <td>99.9</td>\n",
       "      <td>0.027729</td>\n",
       "    </tr>\n",
       "    <tr>\n",
       "      <th>1</th>\n",
       "      <td>Aadorf</td>\n",
       "      <td>-99.9</td>\n",
       "      <td>99.9</td>\n",
       "      <td>-0.068436</td>\n",
       "    </tr>\n",
       "    <tr>\n",
       "      <th>2</th>\n",
       "      <td>Aalsmeer</td>\n",
       "      <td>-99.9</td>\n",
       "      <td>99.9</td>\n",
       "      <td>0.183946</td>\n",
       "    </tr>\n",
       "    <tr>\n",
       "      <th>3</th>\n",
       "      <td>Aalten</td>\n",
       "      <td>-99.9</td>\n",
       "      <td>99.9</td>\n",
       "      <td>-0.148162</td>\n",
       "    </tr>\n",
       "    <tr>\n",
       "      <th>4</th>\n",
       "      <td>Aasiaat</td>\n",
       "      <td>-99.9</td>\n",
       "      <td>99.9</td>\n",
       "      <td>0.244987</td>\n",
       "    </tr>\n",
       "    <tr>\n",
       "      <th>...</th>\n",
       "      <td>...</td>\n",
       "      <td>...</td>\n",
       "      <td>...</td>\n",
       "      <td>...</td>\n",
       "    </tr>\n",
       "    <tr>\n",
       "      <th>8855</th>\n",
       "      <td>‘Anbarābād</td>\n",
       "      <td>-99.9</td>\n",
       "      <td>99.9</td>\n",
       "      <td>-0.233353</td>\n",
       "    </tr>\n",
       "    <tr>\n",
       "      <th>8856</th>\n",
       "      <td>‘Aynkāwah</td>\n",
       "      <td>-99.9</td>\n",
       "      <td>99.9</td>\n",
       "      <td>0.081314</td>\n",
       "    </tr>\n",
       "    <tr>\n",
       "      <th>8857</th>\n",
       "      <td>’Aïn Arnat</td>\n",
       "      <td>-99.9</td>\n",
       "      <td>99.9</td>\n",
       "      <td>-0.037782</td>\n",
       "    </tr>\n",
       "    <tr>\n",
       "      <th>8858</th>\n",
       "      <td>’Tlat Bni Oukil</td>\n",
       "      <td>-99.9</td>\n",
       "      <td>99.9</td>\n",
       "      <td>0.179272</td>\n",
       "    </tr>\n",
       "    <tr>\n",
       "      <th>8859</th>\n",
       "      <td>’s-Hertogenbosch</td>\n",
       "      <td>-99.9</td>\n",
       "      <td>99.9</td>\n",
       "      <td>0.117379</td>\n",
       "    </tr>\n",
       "  </tbody>\n",
       "</table>\n",
       "<p>8860 rows × 4 columns</p>\n",
       "</div>"
      ],
      "text/plain": [
       "               station  min_measurement  max_measurement  avg_measurement\n",
       "0             A Yun Pa            -99.9             99.9         0.027729\n",
       "1               Aadorf            -99.9             99.9        -0.068436\n",
       "2             Aalsmeer            -99.9             99.9         0.183946\n",
       "3               Aalten            -99.9             99.9        -0.148162\n",
       "4              Aasiaat            -99.9             99.9         0.244987\n",
       "...                ...              ...              ...              ...\n",
       "8855        ‘Anbarābād            -99.9             99.9        -0.233353\n",
       "8856         ‘Aynkāwah            -99.9             99.9         0.081314\n",
       "8857        ’Aïn Arnat            -99.9             99.9        -0.037782\n",
       "8858   ’Tlat Bni Oukil            -99.9             99.9         0.179272\n",
       "8859  ’s-Hertogenbosch            -99.9             99.9         0.117379\n",
       "\n",
       "[8860 rows x 4 columns]"
      ]
     },
     "execution_count": 19,
     "metadata": {},
     "output_type": "execute_result"
    }
   ],
   "source": [
    "%%time\n",
    "\n",
    "# first run 1m 13s\n",
    "# second run 27s\n",
    "# third run 22s\n",
    "\n",
    "con.execute(\n",
    "    \"\"\"\n",
    "        SELECT \n",
    "            station,\n",
    "            MIN(measurement) AS min_measurement,\n",
    "            MAX(measurement) AS max_measurement,\n",
    "            AVG(measurement) AS avg_measurement\n",
    "        FROM brc_measurements\n",
    "        GROUP BY station\n",
    "        ORDER BY station;\n",
    "    \"\"\"\n",
    ").fetch_df()"
   ]
  }
 ],
 "metadata": {
  "kernelspec": {
   "display_name": "Python 3 (ipykernel)",
   "language": "python",
   "name": "python3"
  },
  "language_info": {
   "codemirror_mode": {
    "name": "ipython",
    "version": 3
   },
   "file_extension": ".py",
   "mimetype": "text/x-python",
   "name": "python",
   "nbconvert_exporter": "python",
   "pygments_lexer": "ipython3",
   "version": "3.11.6"
  }
 },
 "nbformat": 4,
 "nbformat_minor": 5
}
