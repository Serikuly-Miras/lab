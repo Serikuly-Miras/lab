{
 "cells": [
  {
   "cell_type": "markdown",
   "id": "7c1b9246",
   "metadata": {},
   "source": [
    "## Prerequisites"
   ]
  },
  {
   "cell_type": "code",
   "execution_count": 1,
   "id": "b291fd2b",
   "metadata": {},
   "outputs": [
    {
     "name": "stdout",
     "output_type": "stream",
     "text": [
      "Note: you may need to restart the kernel to use updated packages.\n"
     ]
    }
   ],
   "source": [
    "%pip install duckdb --quiet"
   ]
  },
  {
   "cell_type": "code",
   "execution_count": 2,
   "id": "68dc9162",
   "metadata": {},
   "outputs": [],
   "source": [
    "import duckdb\n",
    "import os\n",
    "from dotenv import load_dotenv\n",
    "\n",
    "load_dotenv()\n",
    "pass"
   ]
  },
  {
   "cell_type": "code",
   "execution_count": 3,
   "id": "991eac24",
   "metadata": {},
   "outputs": [
    {
     "data": {
      "text/plain": [
       "<_duckdb.DuckDBPyConnection at 0x7b930f4fa430>"
      ]
     },
     "execution_count": 3,
     "metadata": {},
     "output_type": "execute_result"
    }
   ],
   "source": [
    "con = duckdb.connect()\n",
    "con.execute(\"install ducklake;\")\n",
    "con.execute(\"install postgres;\")"
   ]
  },
  {
   "cell_type": "markdown",
   "id": "285789d3",
   "metadata": {},
   "source": [
    "## Populate required postgres and seaweedfs secrets"
   ]
  },
  {
   "cell_type": "code",
   "execution_count": 4,
   "id": "156f768e",
   "metadata": {},
   "outputs": [
    {
     "data": {
      "text/plain": [
       "<_duckdb.DuckDBPyConnection at 0x7b930f4fa430>"
      ]
     },
     "execution_count": 4,
     "metadata": {},
     "output_type": "execute_result"
    }
   ],
   "source": [
    "con.execute(\n",
    "    \"\"\"\n",
    "        CREATE SECRET (\n",
    "            TYPE postgres,\n",
    "            HOST '{host}',\n",
    "            PORT {port},\n",
    "            DATABASE {db},\n",
    "            USER '{user}',\n",
    "            PASSWORD '{password}'\n",
    "        );\n",
    "    \"\"\".format(\n",
    "        host=os.getenv(\"POSTGRES_HOST\"),\n",
    "        port=os.getenv(\"POSTGRES_PORT\"),\n",
    "        user=os.getenv(\"DUCKLAKE_PG_LOGIN\"),\n",
    "        password=os.getenv(\"DUCKLAKE_PG_PASS\"),\n",
    "        db=\"ducklake_catalog\",\n",
    "    )\n",
    ")"
   ]
  },
  {
   "cell_type": "code",
   "execution_count": 5,
   "id": "fd17674f",
   "metadata": {},
   "outputs": [
    {
     "data": {
      "text/plain": [
       "<_duckdb.DuckDBPyConnection at 0x7b930f4fa430>"
      ]
     },
     "execution_count": 5,
     "metadata": {},
     "output_type": "execute_result"
    }
   ],
   "source": [
    "con.execute(\n",
    "    \"\"\"\n",
    "        CREATE OR REPLACE SECRET secret (\n",
    "            TYPE s3,\n",
    "            ENDPOINT '{endpoint}',\n",
    "            KEY_ID '{key_id}',\n",
    "            SECRET '{secret}',\n",
    "            URL_STYLE 'path',\n",
    "            USE_SSL 'false'\n",
    "        );\n",
    "    \"\"\".format(\n",
    "        endpoint=\"seaweedfs-s3.seaweedfs:8333\",\n",
    "        key_id=os.getenv(\"S3_AWS_ACCESS_KEY_ID\"),\n",
    "        secret=os.getenv(\"S3_AWS_SECRET_ACCESS_KEY\"),\n",
    "    )\n",
    ")"
   ]
  },
  {
   "cell_type": "markdown",
   "id": "485c7ef6",
   "metadata": {},
   "source": [
    "## Test Duckdb s3 read"
   ]
  },
  {
   "cell_type": "code",
   "execution_count": 6,
   "id": "be437faa",
   "metadata": {},
   "outputs": [
    {
     "data": {
      "text/plain": [
       "[(312812,)]"
      ]
     },
     "execution_count": 6,
     "metadata": {},
     "output_type": "execute_result"
    }
   ],
   "source": [
    "con.execute(\n",
    "    \"\"\"\n",
    "        SELECT count(*)\n",
    "        FROM 's3://data-raw/Backblaze-Hard-Drive-Data/data_Q2_2025/2025-04-01.csv';\n",
    "    \"\"\"\n",
    ").fetchall()"
   ]
  },
  {
   "cell_type": "markdown",
   "id": "02621ed2",
   "metadata": {},
   "source": [
    "## Create/Attach DuckLake"
   ]
  },
  {
   "cell_type": "code",
   "execution_count": 7,
   "id": "0c2fdf87",
   "metadata": {},
   "outputs": [
    {
     "data": {
      "text/plain": [
       "<_duckdb.DuckDBPyConnection at 0x7b930f4fa430>"
      ]
     },
     "execution_count": 7,
     "metadata": {},
     "output_type": "execute_result"
    }
   ],
   "source": [
    "con.execute(\n",
    "    \"\"\"\n",
    "        ATTACH 'ducklake:postgres:dbname=ducklake_catalog host={host}' AS my_ducklake\n",
    "            (DATA_PATH 's3://ducklake/');\n",
    "        USE my_ducklake;\n",
    "    \"\"\".format(host=os.getenv(\"POSTGRES_HOST\"))\n",
    ")"
   ]
  },
  {
   "cell_type": "markdown",
   "id": "dc377d9c",
   "metadata": {},
   "source": [
    "## Tests on nl_stations"
   ]
  },
  {
   "cell_type": "code",
   "execution_count": 8,
   "id": "4fe26b79",
   "metadata": {},
   "outputs": [
    {
     "data": {
      "text/plain": [
       "[]"
      ]
     },
     "execution_count": 8,
     "metadata": {},
     "output_type": "execute_result"
    }
   ],
   "source": [
    "con.execute(\n",
    "    \"\"\"\n",
    "        DROP TABLE IF EXISTS nl_train_stations;\n",
    "    \"\"\"\n",
    ").fetchall()"
   ]
  },
  {
   "cell_type": "code",
   "execution_count": 9,
   "id": "91e4f8f8",
   "metadata": {},
   "outputs": [
    {
     "data": {
      "text/plain": [
       "[(578,)]"
      ]
     },
     "execution_count": 9,
     "metadata": {},
     "output_type": "execute_result"
    }
   ],
   "source": [
    "con.execute(\n",
    "    \"\"\"\n",
    "        CREATE TABLE nl_train_stations AS\n",
    "        FROM 'https://blobs.duckdb.org/nl_stations.csv';\n",
    "    \"\"\"\n",
    ").fetchall()"
   ]
  },
  {
   "cell_type": "code",
   "execution_count": 10,
   "id": "ab65037d",
   "metadata": {},
   "outputs": [
    {
     "data": {
      "text/plain": [
       "[(578,)]"
      ]
     },
     "execution_count": 10,
     "metadata": {},
     "output_type": "execute_result"
    }
   ],
   "source": [
    "con.execute(\n",
    "    \"\"\"\n",
    "    SELECT count(*)\n",
    "    FROM nl_train_stations\n",
    "    \"\"\"\n",
    ").fetchall()"
   ]
  },
  {
   "cell_type": "code",
   "execution_count": 11,
   "id": "44ce9f8c",
   "metadata": {},
   "outputs": [
    {
     "data": {
      "application/vnd.microsoft.datawrangler.viewer.v0+json": {
       "columns": [
        {
         "name": "index",
         "rawType": "int64",
         "type": "integer"
        },
        {
         "name": "id",
         "rawType": "int64",
         "type": "integer"
        },
        {
         "name": "code",
         "rawType": "object",
         "type": "string"
        },
        {
         "name": "uic",
         "rawType": "int64",
         "type": "integer"
        },
        {
         "name": "name_short",
         "rawType": "object",
         "type": "string"
        },
        {
         "name": "name_medium",
         "rawType": "object",
         "type": "string"
        },
        {
         "name": "name_long",
         "rawType": "object",
         "type": "string"
        },
        {
         "name": "slug",
         "rawType": "object",
         "type": "string"
        },
        {
         "name": "country",
         "rawType": "object",
         "type": "string"
        },
        {
         "name": "type",
         "rawType": "object",
         "type": "string"
        },
        {
         "name": "geo_lat",
         "rawType": "float64",
         "type": "float"
        },
        {
         "name": "geo_lng",
         "rawType": "float64",
         "type": "float"
        }
       ],
       "ref": "463b8fbc-a7f5-436d-aa25-6691726ff7a7",
       "rows": [
        [
         "0",
         "266",
         "HT",
         "8400319",
         "Den Bosch",
         "'s-Hertogenbosch",
         "'s-Hertogenbosch",
         "s-hertogenbosch",
         "NL",
         "knooppuntIntercitystation",
         "51.69048",
         "5.29362"
        ],
        [
         "1",
         "269",
         "HTO",
         "8400320",
         "Dn Bosch O",
         "'s-Hertogenb. O.",
         "'s-Hertogenbosch Oost",
         "s-hertogenbosch-oost",
         "NL",
         "stoptreinstation",
         "51.700553894043",
         "5.3183331489563"
        ],
        [
         "2",
         "227",
         "HDE",
         "8400388",
         "'t Harde",
         "'t Harde",
         "'t Harde",
         "t-harde",
         "NL",
         "stoptreinstation",
         "52.4091682",
         "5.893611"
        ],
        [
         "3",
         "8",
         "AHBF",
         "8015345",
         "Aachen",
         "Aachen Hbf",
         "Aachen Hbf",
         "aachen-hbf",
         "D",
         "knooppuntIntercitystation",
         "50.7678",
         "6.091499"
        ],
        [
         "4",
         "818",
         "AW",
         "8015199",
         "Aachen W",
         "Aachen West",
         "Aachen West",
         "aachen-west",
         "D",
         "stoptreinstation",
         "50.78036",
         "6.070715"
        ]
       ],
       "shape": {
        "columns": 11,
        "rows": 5
       }
      },
      "text/html": [
       "<div>\n",
       "<style scoped>\n",
       "    .dataframe tbody tr th:only-of-type {\n",
       "        vertical-align: middle;\n",
       "    }\n",
       "\n",
       "    .dataframe tbody tr th {\n",
       "        vertical-align: top;\n",
       "    }\n",
       "\n",
       "    .dataframe thead th {\n",
       "        text-align: right;\n",
       "    }\n",
       "</style>\n",
       "<table border=\"1\" class=\"dataframe\">\n",
       "  <thead>\n",
       "    <tr style=\"text-align: right;\">\n",
       "      <th></th>\n",
       "      <th>id</th>\n",
       "      <th>code</th>\n",
       "      <th>uic</th>\n",
       "      <th>name_short</th>\n",
       "      <th>name_medium</th>\n",
       "      <th>name_long</th>\n",
       "      <th>slug</th>\n",
       "      <th>country</th>\n",
       "      <th>type</th>\n",
       "      <th>geo_lat</th>\n",
       "      <th>geo_lng</th>\n",
       "    </tr>\n",
       "  </thead>\n",
       "  <tbody>\n",
       "    <tr>\n",
       "      <th>0</th>\n",
       "      <td>266</td>\n",
       "      <td>HT</td>\n",
       "      <td>8400319</td>\n",
       "      <td>Den Bosch</td>\n",
       "      <td>'s-Hertogenbosch</td>\n",
       "      <td>'s-Hertogenbosch</td>\n",
       "      <td>s-hertogenbosch</td>\n",
       "      <td>NL</td>\n",
       "      <td>knooppuntIntercitystation</td>\n",
       "      <td>51.690480</td>\n",
       "      <td>5.293620</td>\n",
       "    </tr>\n",
       "    <tr>\n",
       "      <th>1</th>\n",
       "      <td>269</td>\n",
       "      <td>HTO</td>\n",
       "      <td>8400320</td>\n",
       "      <td>Dn Bosch O</td>\n",
       "      <td>'s-Hertogenb. O.</td>\n",
       "      <td>'s-Hertogenbosch Oost</td>\n",
       "      <td>s-hertogenbosch-oost</td>\n",
       "      <td>NL</td>\n",
       "      <td>stoptreinstation</td>\n",
       "      <td>51.700554</td>\n",
       "      <td>5.318333</td>\n",
       "    </tr>\n",
       "    <tr>\n",
       "      <th>2</th>\n",
       "      <td>227</td>\n",
       "      <td>HDE</td>\n",
       "      <td>8400388</td>\n",
       "      <td>'t Harde</td>\n",
       "      <td>'t Harde</td>\n",
       "      <td>'t Harde</td>\n",
       "      <td>t-harde</td>\n",
       "      <td>NL</td>\n",
       "      <td>stoptreinstation</td>\n",
       "      <td>52.409168</td>\n",
       "      <td>5.893611</td>\n",
       "    </tr>\n",
       "    <tr>\n",
       "      <th>3</th>\n",
       "      <td>8</td>\n",
       "      <td>AHBF</td>\n",
       "      <td>8015345</td>\n",
       "      <td>Aachen</td>\n",
       "      <td>Aachen Hbf</td>\n",
       "      <td>Aachen Hbf</td>\n",
       "      <td>aachen-hbf</td>\n",
       "      <td>D</td>\n",
       "      <td>knooppuntIntercitystation</td>\n",
       "      <td>50.767800</td>\n",
       "      <td>6.091499</td>\n",
       "    </tr>\n",
       "    <tr>\n",
       "      <th>4</th>\n",
       "      <td>818</td>\n",
       "      <td>AW</td>\n",
       "      <td>8015199</td>\n",
       "      <td>Aachen W</td>\n",
       "      <td>Aachen West</td>\n",
       "      <td>Aachen West</td>\n",
       "      <td>aachen-west</td>\n",
       "      <td>D</td>\n",
       "      <td>stoptreinstation</td>\n",
       "      <td>50.780360</td>\n",
       "      <td>6.070715</td>\n",
       "    </tr>\n",
       "  </tbody>\n",
       "</table>\n",
       "</div>"
      ],
      "text/plain": [
       "    id  code      uic  name_short       name_medium              name_long  \\\n",
       "0  266    HT  8400319   Den Bosch  's-Hertogenbosch       's-Hertogenbosch   \n",
       "1  269   HTO  8400320  Dn Bosch O  's-Hertogenb. O.  's-Hertogenbosch Oost   \n",
       "2  227   HDE  8400388    't Harde          't Harde               't Harde   \n",
       "3    8  AHBF  8015345      Aachen        Aachen Hbf             Aachen Hbf   \n",
       "4  818    AW  8015199    Aachen W       Aachen West            Aachen West   \n",
       "\n",
       "                   slug country                       type    geo_lat  \\\n",
       "0       s-hertogenbosch      NL  knooppuntIntercitystation  51.690480   \n",
       "1  s-hertogenbosch-oost      NL           stoptreinstation  51.700554   \n",
       "2               t-harde      NL           stoptreinstation  52.409168   \n",
       "3            aachen-hbf       D  knooppuntIntercitystation  50.767800   \n",
       "4           aachen-west       D           stoptreinstation  50.780360   \n",
       "\n",
       "    geo_lng  \n",
       "0  5.293620  \n",
       "1  5.318333  \n",
       "2  5.893611  \n",
       "3  6.091499  \n",
       "4  6.070715  "
      ]
     },
     "execution_count": 11,
     "metadata": {},
     "output_type": "execute_result"
    }
   ],
   "source": [
    "con.execute(\n",
    "    \"\"\"\n",
    "    SELECT *\n",
    "    FROM nl_train_stations\n",
    "    LIMIT 5\n",
    "    \"\"\"\n",
    ").fetch_df()"
   ]
  },
  {
   "cell_type": "markdown",
   "id": "74a66a64",
   "metadata": {},
   "source": [
    "## Load Backblaze-Hard-Drive-Data into DuckLake"
   ]
  },
  {
   "cell_type": "code",
   "execution_count": 15,
   "id": "8afbc7c0",
   "metadata": {},
   "outputs": [
    {
     "data": {
      "application/vnd.jupyter.widget-view+json": {
       "model_id": "b15e295c57cd42e7a8824a58fc541da7",
       "version_major": 2,
       "version_minor": 0
      },
      "text/plain": [
       "FloatProgress(value=0.0, layout=Layout(width='auto'), style=ProgressStyle(bar_color='black'))"
      ]
     },
     "metadata": {},
     "output_type": "display_data"
    },
    {
     "data": {
      "text/plain": [
       "<_duckdb.DuckDBPyConnection at 0x7b930f4fa430>"
      ]
     },
     "execution_count": 15,
     "metadata": {},
     "output_type": "execute_result"
    }
   ],
   "source": [
    "con.execute(\n",
    "    \"\"\"\n",
    "        CREATE TABLE hard_drive_data AS\n",
    "        SELECT * FROM read_csv('s3://data-raw/Backblaze-Hard-Drive-Data/*/*.csv');\n",
    "    \"\"\"\n",
    ")"
   ]
  },
  {
   "cell_type": "code",
   "execution_count": 17,
   "id": "d03ccdc6",
   "metadata": {},
   "outputs": [
    {
     "data": {
      "text/plain": [
       "[(56608028,)]"
      ]
     },
     "execution_count": 17,
     "metadata": {},
     "output_type": "execute_result"
    }
   ],
   "source": [
    "con.execute(\n",
    "    \"\"\"\n",
    "        SELECT count(*)\n",
    "        FROM hard_drive_data;\n",
    "    \"\"\"\n",
    ").fetchall()"
   ]
  }
 ],
 "metadata": {
  "kernelspec": {
   "display_name": "Python 3 (ipykernel)",
   "language": "python",
   "name": "python3"
  },
  "language_info": {
   "codemirror_mode": {
    "name": "ipython",
    "version": 3
   },
   "file_extension": ".py",
   "mimetype": "text/x-python",
   "name": "python",
   "nbconvert_exporter": "python",
   "pygments_lexer": "ipython3",
   "version": "3.11.6"
  }
 },
 "nbformat": 4,
 "nbformat_minor": 5
}
