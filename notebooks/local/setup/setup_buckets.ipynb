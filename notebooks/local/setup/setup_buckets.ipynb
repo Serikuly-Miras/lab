{
 "cells": [
  {
   "cell_type": "code",
   "execution_count": 4,
   "id": "8e15ad04",
   "metadata": {},
   "outputs": [
    {
     "name": "stdout",
     "output_type": "stream",
     "text": [
      "{'Buckets': [{'CreationDate': datetime.datetime(2025, 10, 3, 20, 44, 43, tzinfo=tzlocal()),\n",
      "              'Name': 'airflow'},\n",
      "             {'CreationDate': datetime.datetime(2025, 10, 3, 20, 49, 45, tzinfo=tzlocal()),\n",
      "              'Name': 'data-archive'},\n",
      "             {'CreationDate': datetime.datetime(2025, 10, 3, 20, 49, 45, tzinfo=tzlocal()),\n",
      "              'Name': 'data-in-processing'},\n",
      "             {'CreationDate': datetime.datetime(2025, 10, 3, 20, 49, 45, tzinfo=tzlocal()),\n",
      "              'Name': 'data-marts'},\n",
      "             {'CreationDate': datetime.datetime(2025, 10, 3, 20, 49, 59, tzinfo=tzlocal()),\n",
      "              'Name': 'data-metadata'},\n",
      "             {'CreationDate': datetime.datetime(2025, 10, 3, 20, 49, 45, tzinfo=tzlocal()),\n",
      "              'Name': 'data-normalized'},\n",
      "             {'CreationDate': datetime.datetime(2025, 10, 3, 20, 49, 45, tzinfo=tzlocal()),\n",
      "              'Name': 'data-raw'},\n",
      "             {'CreationDate': datetime.datetime(2025, 10, 3, 20, 49, 45, tzinfo=tzlocal()),\n",
      "              'Name': 'data-staging'},\n",
      "             {'CreationDate': datetime.datetime(2025, 10, 3, 20, 49, 59, tzinfo=tzlocal()),\n",
      "              'Name': 'data-test'},\n",
      "             {'CreationDate': datetime.datetime(2025, 10, 15, 18, 2, 52, tzinfo=tzlocal()),\n",
      "              'Name': 'ducklake'}],\n",
      " 'Owner': {'ID': ''},\n",
      " 'ResponseMetadata': {'HTTPHeaders': {'accept-ranges': 'bytes',\n",
      "                                      'content-length': '1033',\n",
      "                                      'content-type': 'application/xml',\n",
      "                                      'date': 'Wed, 15 Oct 2025 18:02:55 GMT',\n",
      "                                      'server': 'SeaweedFS 30GB 3.93',\n",
      "                                      'x-amz-request-id': '1760551375357281603'},\n",
      "                      'HTTPStatusCode': 200,\n",
      "                      'HostId': '',\n",
      "                      'RequestId': '1760551375357281603',\n",
      "                      'RetryAttempts': 0}}\n"
     ]
    }
   ],
   "source": [
    "import boto3\n",
    "import urllib3\n",
    "import os\n",
    "from pprint import pprint\n",
    "from dotenv import load_dotenv\n",
    "\n",
    "load_dotenv()\n",
    "\n",
    "urllib3.disable_warnings(urllib3.exceptions.InsecureRequestWarning)\n",
    "\n",
    "# Create S3 client\n",
    "s3 = boto3.client(\n",
    "    \"s3\",\n",
    "    endpoint_url=os.getenv(\"S3_AWS_URL\"),\n",
    "    aws_access_key_id=os.getenv(\"S3_AWS_ACCESS_KEY_ID\"),\n",
    "    aws_secret_access_key=os.getenv(\"S3_AWS_SECRET_ACCESS_KEY\"),\n",
    "    verify=False,\n",
    ")\n",
    "\n",
    "# List buckets\n",
    "response = s3.list_buckets()\n",
    "pprint(response)"
   ]
  },
  {
   "cell_type": "code",
   "execution_count": 5,
   "id": "83a8bf48",
   "metadata": {},
   "outputs": [],
   "source": [
    "buckets = [\n",
    "    # main\n",
    "    \"data-raw\",\n",
    "    \"data-normalized\",\n",
    "    \"data-marts\",\n",
    "\n",
    "    # tmp\n",
    "    \"data-in-processing\",\n",
    "\n",
    "    # staging / testing\n",
    "    \"data-staging\",\n",
    "    \"data-test\",\n",
    "\n",
    "    # archive / keep only\n",
    "    \"data-archive\",\n",
    "\n",
    "    # ducklake\n",
    "    \"ducklake\",\n",
    "]"
   ]
  },
  {
   "cell_type": "code",
   "execution_count": 6,
   "id": "2f085d9f",
   "metadata": {},
   "outputs": [
    {
     "name": "stdout",
     "output_type": "stream",
     "text": [
      "\"Bucket 'data-raw' already exists\"\n",
      "\"Bucket 'data-normalized' already exists\"\n",
      "\"Bucket 'data-marts' already exists\"\n",
      "\"Bucket 'data-in-processing' already exists\"\n",
      "\"Bucket 'data-staging' already exists\"\n",
      "\"Bucket 'data-test' already exists\"\n",
      "\"Bucket 'data-archive' already exists\"\n",
      "\"Bucket 'ducklake' already exists\"\n"
     ]
    }
   ],
   "source": [
    "for name in buckets:\n",
    "    try:\n",
    "        s3.create_bucket(Bucket=name)\n",
    "        pprint(f\"Bucket '{name}' created successfully\")\n",
    "    except s3.exceptions.BucketAlreadyExists:\n",
    "        pprint(f\"Bucket '{name}' already exists\")\n",
    "    except Exception as e:\n",
    "        pprint(f\"Error creating bucket '{name}': {e}\")"
   ]
  }
 ],
 "metadata": {
  "kernelspec": {
   "display_name": "Python 3 (ipykernel)",
   "language": "python",
   "name": "python3"
  },
  "language_info": {
   "codemirror_mode": {
    "name": "ipython",
    "version": 3
   },
   "file_extension": ".py",
   "mimetype": "text/x-python",
   "name": "python",
   "nbconvert_exporter": "python",
   "pygments_lexer": "ipython3",
   "version": "3.11.6"
  }
 },
 "nbformat": 4,
 "nbformat_minor": 5
}
