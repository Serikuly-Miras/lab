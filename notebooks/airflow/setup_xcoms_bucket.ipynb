{
 "cells": [
  {
   "cell_type": "code",
   "execution_count": 1,
   "id": "8e15ad04",
   "metadata": {},
   "outputs": [
    {
     "name": "stdout",
     "output_type": "stream",
     "text": [
      "{'Buckets': [{'CreationDate': datetime.datetime(2025, 9, 13, 15, 22, 48, tzinfo=tzutc()),\n",
      "              'Name': 'base'}],\n",
      " 'Owner': {'ID': ''},\n",
      " 'ResponseMetadata': {'HTTPHeaders': {'accept-ranges': 'bytes',\n",
      "                                      'content-length': '214',\n",
      "                                      'content-type': 'application/xml',\n",
      "                                      'date': 'Tue, 16 Sep 2025 05:10:49 GMT',\n",
      "                                      'server': 'SeaweedFS 30GB 3.93',\n",
      "                                      'x-amz-request-id': '1757999449107469152'},\n",
      "                      'HTTPStatusCode': 200,\n",
      "                      'HostId': '',\n",
      "                      'RequestId': '1757999449107469152',\n",
      "                      'RetryAttempts': 0}}\n"
     ]
    }
   ],
   "source": [
    "import boto3\n",
    "import urllib3\n",
    "import os\n",
    "from pprint import pprint\n",
    "from dotenv import load_dotenv\n",
    "\n",
    "load_dotenv()\n",
    "\n",
    "urllib3.disable_warnings(urllib3.exceptions.InsecureRequestWarning)\n",
    "\n",
    "# Create S3 client\n",
    "s3 = boto3.client(\n",
    "    \"s3\",\n",
    "    endpoint_url=\"https://swfs-s3.lab.s-miras.com/\",\n",
    "    aws_access_key_id=os.getenv(\"S3_AWS_ACCESS_KEY_ID\"),\n",
    "    aws_secret_access_key=os.getenv(\"S3_AWS_SECRET_ACCESS_KEY\"),\n",
    "    verify=False,\n",
    ")\n",
    "\n",
    "# List buckets\n",
    "response = s3.list_buckets()\n",
    "pprint(response)"
   ]
  },
  {
   "cell_type": "code",
   "execution_count": 2,
   "id": "83a8bf48",
   "metadata": {},
   "outputs": [],
   "source": [
    "bucket_name = \"airflow\""
   ]
  },
  {
   "cell_type": "code",
   "execution_count": 4,
   "id": "2f085d9f",
   "metadata": {},
   "outputs": [
    {
     "name": "stdout",
     "output_type": "stream",
     "text": [
      "\"Bucket 'airflow' created successfully\"\n"
     ]
    }
   ],
   "source": [
    "# Create bucket\n",
    "try:\n",
    "    s3.create_bucket(Bucket=bucket_name)\n",
    "    pprint(f\"Bucket '{bucket_name}' created successfully\")\n",
    "except Exception as e:\n",
    "    pprint(f\"Error creating bucket: {e}\")"
   ]
  },
  {
   "cell_type": "code",
   "execution_count": 5,
   "id": "9f50ee57",
   "metadata": {},
   "outputs": [
    {
     "name": "stdout",
     "output_type": "stream",
     "text": [
      "{'EncodingType': 'url',\n",
      " 'IsTruncated': False,\n",
      " 'KeyCount': 0,\n",
      " 'MaxKeys': 10000,\n",
      " 'Name': 'airflow',\n",
      " 'Prefix': '',\n",
      " 'ResponseMetadata': {'HTTPHeaders': {'accept-ranges': 'bytes',\n",
      "                                      'content-length': '271',\n",
      "                                      'content-type': 'application/xml',\n",
      "                                      'date': 'Tue, 16 Sep 2025 05:11:02 GMT',\n",
      "                                      'server': 'SeaweedFS 30GB 3.93',\n",
      "                                      'x-amz-request-id': '1757999462018206550'},\n",
      "                      'HTTPStatusCode': 200,\n",
      "                      'HostId': '',\n",
      "                      'RequestId': '1757999462018206550',\n",
      "                      'RetryAttempts': 0}}\n"
     ]
    }
   ],
   "source": [
    "# show files in bucket\n",
    "response = s3.list_objects_v2(Bucket=bucket_name)\n",
    "pprint(response)"
   ]
  },
  {
   "cell_type": "code",
   "execution_count": 6,
   "id": "1497611e",
   "metadata": {},
   "outputs": [
    {
     "data": {
      "text/plain": [
       "{'ResponseMetadata': {'RequestId': '1757999464669109814',\n",
       "  'HostId': '',\n",
       "  'HTTPStatusCode': 200,\n",
       "  'HTTPHeaders': {'accept-ranges': 'bytes',\n",
       "   'content-length': '0',\n",
       "   'date': 'Tue, 16 Sep 2025 05:11:04 GMT',\n",
       "   'etag': '\"b10a8db164e0754105b7a99be72e3fe5\"',\n",
       "   'server': 'SeaweedFS 30GB 3.93',\n",
       "   'x-amz-request-id': '1757999464669109814'},\n",
       "  'RetryAttempts': 0},\n",
       " 'ETag': '\"b10a8db164e0754105b7a99be72e3fe5\"'}"
      ]
     },
     "execution_count": 6,
     "metadata": {},
     "output_type": "execute_result"
    }
   ],
   "source": [
    "s3.put_object(Bucket=bucket_name, Key=\"test.txt\", Body=b\"Hello World\")"
   ]
  },
  {
   "cell_type": "code",
   "execution_count": 7,
   "id": "734d88a4",
   "metadata": {},
   "outputs": [
    {
     "name": "stdout",
     "output_type": "stream",
     "text": [
      "b'Hello World'\n"
     ]
    }
   ],
   "source": [
    "# Download file\n",
    "response = s3.get_object(Bucket=bucket_name, Key=\"test.txt\")\n",
    "pprint(response[\"Body\"].read())"
   ]
  },
  {
   "cell_type": "code",
   "execution_count": 8,
   "id": "bb541d34",
   "metadata": {},
   "outputs": [
    {
     "name": "stdout",
     "output_type": "stream",
     "text": [
      "Lifecycle policy applied successfully\n"
     ]
    }
   ],
   "source": [
    "# Configure lifecycle policy to delete objects after 3 days\n",
    "lifecycle_config = {\n",
    "    \"Rules\": [\n",
    "        {\n",
    "            \"ID\": \"DeleteAfter3Days\",\n",
    "            \"Status\": \"Enabled\",\n",
    "            \"Filter\": {\"Prefix\": \"\"},  # Apply to all objects\n",
    "            \"Expiration\": {\"Days\": 3},\n",
    "        }\n",
    "    ]\n",
    "}\n",
    "\n",
    "try:\n",
    "    s3.put_bucket_lifecycle_configuration(\n",
    "        Bucket=bucket_name, LifecycleConfiguration=lifecycle_config\n",
    "    )\n",
    "    print(\"Lifecycle policy applied successfully\")\n",
    "except Exception as e:\n",
    "    print(f\"Error applying lifecycle policy: {e}\")"
   ]
  },
  {
   "cell_type": "code",
   "execution_count": 9,
   "id": "502e6f74",
   "metadata": {},
   "outputs": [
    {
     "name": "stdout",
     "output_type": "stream",
     "text": [
      "Current lifecycle configuration:\n",
      "[\n",
      "  {\n",
      "    \"Expiration\": {\n",
      "      \"Days\": 3\n",
      "    },\n",
      "    \"Prefix\": \"\",\n",
      "    \"Status\": \"Enabled\"\n",
      "  }\n",
      "]\n"
     ]
    }
   ],
   "source": [
    "import json\n",
    "\n",
    "# Verify lifecycle policy\n",
    "try:\n",
    "    response = s3.get_bucket_lifecycle_configuration(Bucket=bucket_name)\n",
    "    print(\"Current lifecycle configuration:\")\n",
    "    print(json.dumps(response[\"Rules\"], indent=2))\n",
    "except Exception as e:\n",
    "    print(f\"Error getting lifecycle policy: {e}\")"
   ]
  }
 ],
 "metadata": {
  "kernelspec": {
   "display_name": "notebooks",
   "language": "python",
   "name": "python3"
  },
  "language_info": {
   "codemirror_mode": {
    "name": "ipython",
    "version": 3
   },
   "file_extension": ".py",
   "mimetype": "text/x-python",
   "name": "python",
   "nbconvert_exporter": "python",
   "pygments_lexer": "ipython3",
   "version": "3.12.9"
  }
 },
 "nbformat": 4,
 "nbformat_minor": 5
}
