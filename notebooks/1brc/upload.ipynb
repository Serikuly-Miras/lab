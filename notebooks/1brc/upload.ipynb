{
 "cells": [
  {
   "cell_type": "code",
   "execution_count": 29,
   "id": "8e15ad04",
   "metadata": {},
   "outputs": [],
   "source": [
    "import sys\n",
    "import os\n",
    "import threading\n",
    "import boto3\n",
    "from boto3.s3.transfer import TransferConfig\n",
    "import urllib3\n",
    "from dotenv import load_dotenv\n",
    "\n",
    "load_dotenv()\n",
    "\n",
    "urllib3.disable_warnings(urllib3.exceptions.InsecureRequestWarning)\n",
    "\n",
    "S3_BUCKET = \"base\"\n",
    "FILE_PATH = \"data\"\n",
    "KEY_PATH = \"1brc\"\n",
    "\n",
    "s3_client = boto3.client(\n",
    "    \"s3\",\n",
    "    endpoint_url=\"https://swfs-s3.lab.s-miras.com/\",\n",
    "    aws_access_key_id=os.getenv(\"S3_AWS_ACCESS_KEY_ID\"),\n",
    "    aws_secret_access_key=os.getenv(\"S3_AWS_SECRET_ACCESS_KEY\"),\n",
    "    verify=False,\n",
    ")\n",
    "\n",
    "transfer_config = TransferConfig(\n",
    "    multipart_threshold=1024 * 25,\n",
    "    max_concurrency=10,\n",
    "    multipart_chunksize=1024 * 25,\n",
    "    use_threads=True,\n",
    ")\n",
    "\n",
    "\n",
    "class ProgressPercentage(object):\n",
    "    def __init__(self, filename):\n",
    "        self._filename = filename\n",
    "        self._size = float(os.path.getsize(filename))\n",
    "        self._seen_so_far = 0\n",
    "        self._lock = threading.Lock()\n",
    "\n",
    "    def __call__(self, bytes_amount):\n",
    "        with self._lock:\n",
    "            self._seen_so_far += bytes_amount\n",
    "            percentage = (self._seen_so_far / self._size) * 100\n",
    "            sys.stdout.write(\n",
    "                \"\\r%s  %s / %s  (%.2f%%)\"\n",
    "                % (self._filename, self._seen_so_far, self._size, percentage)\n",
    "            )\n",
    "            sys.stdout.flush()"
   ]
  },
  {
   "cell_type": "code",
   "execution_count": 30,
   "id": "805d892c",
   "metadata": {},
   "outputs": [
    {
     "name": "stdout",
     "output_type": "stream",
     "text": [
      "4.3G\tmeasurements.parquet\n",
      "16G\tmeasurements.txt\n"
     ]
    }
   ],
   "source": [
    "!ls -lh data/ | grep -v \"^Permissions\" | awk '{print $2 \"\\t\" $9}'"
   ]
  },
  {
   "cell_type": "code",
   "execution_count": 31,
   "id": "2e98ff2f",
   "metadata": {},
   "outputs": [
    {
     "name": "stdout",
     "output_type": "stream",
     "text": [
      "data/measurements.txt  15901107260 / 15901107260.0  (100.00%)"
     ]
    }
   ],
   "source": [
    "s3_client.upload_file(\n",
    "    f\"{FILE_PATH}/measurements.txt\",\n",
    "    S3_BUCKET,\n",
    "    f\"{KEY_PATH}/measurements.txt\",\n",
    "    ExtraArgs={\"ACL\": \"public-read\", \"ContentType\": \"text/plain\"},\n",
    "    Config=transfer_config,\n",
    "    Callback=ProgressPercentage(f\"{FILE_PATH}/measurements.txt\"),\n",
    ")"
   ]
  },
  {
   "cell_type": "code",
   "execution_count": 32,
   "id": "80f60d06",
   "metadata": {},
   "outputs": [
    {
     "name": "stdout",
     "output_type": "stream",
     "text": [
      "data/measurements.parquet  4346710127 / 4346710127.0  (100.00%)"
     ]
    }
   ],
   "source": [
    "s3_client.upload_file(\n",
    "    f\"{FILE_PATH}/measurements.parquet\",\n",
    "    S3_BUCKET,\n",
    "    f\"{KEY_PATH}/measurements.parquet\",\n",
    "    ExtraArgs={\"ACL\": \"public-read\", \"ContentType\": \"application/octet-stream\"},\n",
    "    Config=transfer_config,\n",
    "    Callback=ProgressPercentage(f\"{FILE_PATH}/measurements.parquet\"),\n",
    ")"
   ]
  }
 ],
 "metadata": {
  "kernelspec": {
   "display_name": "notebooks",
   "language": "python",
   "name": "python3"
  },
  "language_info": {
   "codemirror_mode": {
    "name": "ipython",
    "version": 3
   },
   "file_extension": ".py",
   "mimetype": "text/x-python",
   "name": "python",
   "nbconvert_exporter": "python",
   "pygments_lexer": "ipython3",
   "version": "3.12.9"
  }
 },
 "nbformat": 4,
 "nbformat_minor": 5
}
