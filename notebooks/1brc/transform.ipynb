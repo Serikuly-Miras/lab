{
 "cells": [
  {
   "cell_type": "code",
   "execution_count": 1,
   "id": "fe35b364",
   "metadata": {},
   "outputs": [],
   "source": [
    "import polars as pl\n",
    "\n",
    "input_file = \"data/measurements.txt\"\n",
    "parquet_output = \"data/measurements.parquet\"\n",
    "summary_output = \"data/summary.parquet\"\n",
    "\n",
    "lf = pl.scan_csv(\n",
    "    input_file,\n",
    "    separator=\";\",\n",
    "    has_header=False,\n",
    "    new_columns=[\"station\", \"temperature\"],\n",
    "    schema_overrides={\"station\": pl.Utf8, \"temperature\": pl.Float64},\n",
    ").sink_parquet(\n",
    "    parquet_output,\n",
    "    row_group_size=1_000_000,\n",
    ")"
   ]
  },
  {
   "cell_type": "code",
   "execution_count": 2,
   "id": "cc057583",
   "metadata": {},
   "outputs": [],
   "source": [
    "# # prepare solution\n",
    "pl.scan_parquet(parquet_output).group_by(\"station\").agg(\n",
    "    [\n",
    "        pl.col(\"temperature\").min().alias(\"min\"),\n",
    "        pl.col(\"temperature\").mean().round(2).alias(\"mean\"),\n",
    "        pl.col(\"temperature\").max().alias(\"max\"),\n",
    "    ]\n",
    ").sort(\"station\").sink_parquet(summary_output)"
   ]
  },
  {
   "cell_type": "code",
   "execution_count": 3,
   "id": "c213a14c",
   "metadata": {},
   "outputs": [
    {
     "data": {
      "text/html": [
       "<div><style>\n",
       ".dataframe > thead > tr,\n",
       ".dataframe > tbody > tr {\n",
       "  text-align: right;\n",
       "  white-space: pre-wrap;\n",
       "}\n",
       "</style>\n",
       "<small>shape: (5, 2)</small><table border=\"1\" class=\"dataframe\"><thead><tr><th>station</th><th>temperature</th></tr><tr><td>str</td><td>f64</td></tr></thead><tbody><tr><td>&quot;Purwā&quot;</td><td>-94.2</td></tr><tr><td>&quot;Woodburn&quot;</td><td>-45.2</td></tr><tr><td>&quot;Pushpattūr&quot;</td><td>65.2</td></tr><tr><td>&quot;Mŭ’minobod&quot;</td><td>78.5</td></tr><tr><td>&quot;Buyende&quot;</td><td>42.9</td></tr></tbody></table></div>"
      ],
      "text/plain": [
       "shape: (5, 2)\n",
       "┌────────────┬─────────────┐\n",
       "│ station    ┆ temperature │\n",
       "│ ---        ┆ ---         │\n",
       "│ str        ┆ f64         │\n",
       "╞════════════╪═════════════╡\n",
       "│ Purwā      ┆ -94.2       │\n",
       "│ Woodburn   ┆ -45.2       │\n",
       "│ Pushpattūr ┆ 65.2        │\n",
       "│ Mŭ’minobod ┆ 78.5        │\n",
       "│ Buyende    ┆ 42.9        │\n",
       "└────────────┴─────────────┘"
      ]
     },
     "execution_count": 3,
     "metadata": {},
     "output_type": "execute_result"
    }
   ],
   "source": [
    "lf = pl.read_parquet(parquet_output)\n",
    "lf.head()"
   ]
  },
  {
   "cell_type": "code",
   "execution_count": 4,
   "id": "78a15a20",
   "metadata": {},
   "outputs": [
    {
     "data": {
      "text/html": [
       "<div><style>\n",
       ".dataframe > thead > tr,\n",
       ".dataframe > tbody > tr {\n",
       "  text-align: right;\n",
       "  white-space: pre-wrap;\n",
       "}\n",
       "</style>\n",
       "<small>shape: (5, 4)</small><table border=\"1\" class=\"dataframe\"><thead><tr><th>station</th><th>min</th><th>mean</th><th>max</th></tr><tr><td>str</td><td>f64</td><td>f64</td><td>f64</td></tr></thead><tbody><tr><td>&quot;A Coruña&quot;</td><td>-99.9</td><td>0.33</td><td>99.9</td></tr><tr><td>&quot;Aachen&quot;</td><td>-99.9</td><td>-0.11</td><td>99.9</td></tr><tr><td>&quot;Aalen&quot;</td><td>-99.9</td><td>0.14</td><td>99.9</td></tr><tr><td>&quot;Aarsâl&quot;</td><td>-99.9</td><td>0.08</td><td>99.9</td></tr><tr><td>&quot;Aartselaar&quot;</td><td>-99.9</td><td>-0.31</td><td>99.9</td></tr></tbody></table></div>"
      ],
      "text/plain": [
       "shape: (5, 4)\n",
       "┌────────────┬───────┬───────┬──────┐\n",
       "│ station    ┆ min   ┆ mean  ┆ max  │\n",
       "│ ---        ┆ ---   ┆ ---   ┆ ---  │\n",
       "│ str        ┆ f64   ┆ f64   ┆ f64  │\n",
       "╞════════════╪═══════╪═══════╪══════╡\n",
       "│ A Coruña   ┆ -99.9 ┆ 0.33  ┆ 99.9 │\n",
       "│ Aachen     ┆ -99.9 ┆ -0.11 ┆ 99.9 │\n",
       "│ Aalen      ┆ -99.9 ┆ 0.14  ┆ 99.9 │\n",
       "│ Aarsâl     ┆ -99.9 ┆ 0.08  ┆ 99.9 │\n",
       "│ Aartselaar ┆ -99.9 ┆ -0.31 ┆ 99.9 │\n",
       "└────────────┴───────┴───────┴──────┘"
      ]
     },
     "execution_count": 4,
     "metadata": {},
     "output_type": "execute_result"
    }
   ],
   "source": [
    "lf = pl.read_parquet(summary_output)\n",
    "lf.head()"
   ]
  }
 ],
 "metadata": {
  "kernelspec": {
   "display_name": "dags",
   "language": "python",
   "name": "python3"
  },
  "language_info": {
   "codemirror_mode": {
    "name": "ipython",
    "version": 3
   },
   "file_extension": ".py",
   "mimetype": "text/x-python",
   "name": "python",
   "nbconvert_exporter": "python",
   "pygments_lexer": "ipython3",
   "version": "3.12.9"
  }
 },
 "nbformat": 4,
 "nbformat_minor": 5
}
