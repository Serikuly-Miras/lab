{
 "cells": [
  {
   "cell_type": "code",
   "execution_count": 11,
   "id": "fe35b364",
   "metadata": {},
   "outputs": [],
   "source": [
    "import polars as pl\n",
    "\n",
    "input_file = \"data/measurements.txt\"\n",
    "parquet_output = \"data/measurements.parquet\"\n",
    "\n",
    "lf = pl.scan_csv(\n",
    "    input_file,\n",
    "    separator=\";\",\n",
    "    has_header=False,\n",
    "    new_columns=[\"station\", \"temperature\"],\n",
    "    schema_overrides={\"station\": pl.Utf8, \"temperature\": pl.Float64},\n",
    ")\n",
    "\n",
    "lf.sink_parquet(parquet_output)"
   ]
  },
  {
   "cell_type": "code",
   "execution_count": 12,
   "id": "c213a14c",
   "metadata": {},
   "outputs": [
    {
     "data": {
      "text/html": [
       "<div><style>\n",
       ".dataframe > thead > tr,\n",
       ".dataframe > tbody > tr {\n",
       "  text-align: right;\n",
       "  white-space: pre-wrap;\n",
       "}\n",
       "</style>\n",
       "<small>shape: (5, 2)</small><table border=\"1\" class=\"dataframe\"><thead><tr><th>station</th><th>temperature</th></tr><tr><td>str</td><td>f64</td></tr></thead><tbody><tr><td>&quot;Kennett&quot;</td><td>36.0</td></tr><tr><td>&quot;Praia da Vitória&quot;</td><td>30.4</td></tr><tr><td>&quot;Naantali&quot;</td><td>-3.0</td></tr><tr><td>&quot;Lymm&quot;</td><td>95.1</td></tr><tr><td>&quot;Oulad Driss&quot;</td><td>-24.9</td></tr></tbody></table></div>"
      ],
      "text/plain": [
       "shape: (5, 2)\n",
       "┌──────────────────┬─────────────┐\n",
       "│ station          ┆ temperature │\n",
       "│ ---              ┆ ---         │\n",
       "│ str              ┆ f64         │\n",
       "╞══════════════════╪═════════════╡\n",
       "│ Kennett          ┆ 36.0        │\n",
       "│ Praia da Vitória ┆ 30.4        │\n",
       "│ Naantali         ┆ -3.0        │\n",
       "│ Lymm             ┆ 95.1        │\n",
       "│ Oulad Driss      ┆ -24.9       │\n",
       "└──────────────────┴─────────────┘"
      ]
     },
     "execution_count": 12,
     "metadata": {},
     "output_type": "execute_result"
    }
   ],
   "source": [
    "lf = pl.read_parquet(parquet_output)\n",
    "lf.head()"
   ]
  }
 ],
 "metadata": {
  "kernelspec": {
   "display_name": "notebooks",
   "language": "python",
   "name": "python3"
  },
  "language_info": {
   "codemirror_mode": {
    "name": "ipython",
    "version": 3
   },
   "file_extension": ".py",
   "mimetype": "text/x-python",
   "name": "python",
   "nbconvert_exporter": "python",
   "pygments_lexer": "ipython3",
   "version": "3.12.9"
  }
 },
 "nbformat": 4,
 "nbformat_minor": 5
}
