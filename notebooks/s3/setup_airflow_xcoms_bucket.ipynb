{
 "cells": [
  {
   "cell_type": "code",
   "execution_count": 10,
   "id": "8e15ad04",
   "metadata": {},
   "outputs": [
    {
     "name": "stdout",
     "output_type": "stream",
     "text": [
      "{'Buckets': [{'CreationDate': datetime.datetime(2025, 10, 3, 20, 44, 43, tzinfo=tzutc()),\n",
      "              'Name': 'airflow'},\n",
      "             {'CreationDate': datetime.datetime(2025, 10, 3, 20, 49, 45, tzinfo=tzutc()),\n",
      "              'Name': 'data-archive'},\n",
      "             {'CreationDate': datetime.datetime(2025, 10, 3, 20, 49, 45, tzinfo=tzutc()),\n",
      "              'Name': 'data-in-processing'},\n",
      "             {'CreationDate': datetime.datetime(2025, 10, 3, 20, 49, 45, tzinfo=tzutc()),\n",
      "              'Name': 'data-marts'},\n",
      "             {'CreationDate': datetime.datetime(2025, 10, 3, 20, 49, 59, tzinfo=tzutc()),\n",
      "              'Name': 'data-metadata'},\n",
      "             {'CreationDate': datetime.datetime(2025, 10, 3, 20, 49, 45, tzinfo=tzutc()),\n",
      "              'Name': 'data-normalized'},\n",
      "             {'CreationDate': datetime.datetime(2025, 10, 3, 20, 49, 45, tzinfo=tzutc()),\n",
      "              'Name': 'data-raw'},\n",
      "             {'CreationDate': datetime.datetime(2025, 10, 3, 20, 49, 45, tzinfo=tzutc()),\n",
      "              'Name': 'data-staging'},\n",
      "             {'CreationDate': datetime.datetime(2025, 10, 3, 20, 49, 59, tzinfo=tzutc()),\n",
      "              'Name': 'data-test'}],\n",
      " 'Owner': {'ID': ''},\n",
      " 'ResponseMetadata': {'HTTPHeaders': {'accept-ranges': 'bytes',\n",
      "                                      'content-length': '946',\n",
      "                                      'content-type': 'application/xml',\n",
      "                                      'date': 'Mon, 06 Oct 2025 13:34:51 GMT',\n",
      "                                      'server': 'SeaweedFS 30GB 3.93',\n",
      "                                      'x-amz-request-id': '1759757691542393120'},\n",
      "                      'HTTPStatusCode': 200,\n",
      "                      'HostId': '',\n",
      "                      'RequestId': '1759757691542393120',\n",
      "                      'RetryAttempts': 0}}\n"
     ]
    }
   ],
   "source": [
    "import boto3\n",
    "import urllib3\n",
    "import os\n",
    "from pprint import pprint\n",
    "from dotenv import load_dotenv\n",
    "\n",
    "load_dotenv()\n",
    "\n",
    "urllib3.disable_warnings(urllib3.exceptions.InsecureRequestWarning)\n",
    "\n",
    "# Create S3 client\n",
    "s3 = boto3.client(\n",
    "    \"s3\",\n",
    "    endpoint_url=\"https://swfs-s3.lab.s-miras.com/\",\n",
    "    aws_access_key_id=os.getenv(\"S3_AWS_ACCESS_KEY_ID\"),\n",
    "    aws_secret_access_key=os.getenv(\"S3_AWS_SECRET_ACCESS_KEY\"),\n",
    "    verify=False,\n",
    ")\n",
    "\n",
    "# List buckets\n",
    "response = s3.list_buckets()\n",
    "pprint(response)"
   ]
  },
  {
   "cell_type": "code",
   "execution_count": 11,
   "id": "83a8bf48",
   "metadata": {},
   "outputs": [],
   "source": [
    "bucket_name = \"airflow\""
   ]
  },
  {
   "cell_type": "code",
   "execution_count": 12,
   "id": "2f085d9f",
   "metadata": {},
   "outputs": [
    {
     "name": "stdout",
     "output_type": "stream",
     "text": [
      "\"Bucket 'airflow' already exists\"\n"
     ]
    }
   ],
   "source": [
    "# Create bucket\n",
    "try:\n",
    "    s3.create_bucket(Bucket=bucket_name)\n",
    "    pprint(f\"Bucket '{bucket_name}' created successfully\")\n",
    "except s3.exceptions.BucketAlreadyExists:\n",
    "    pprint(f\"Bucket '{bucket_name}' already exists\")\n",
    "\n",
    "except Exception as e:\n",
    "    pprint(f\"Error creating bucket: {e}\")"
   ]
  },
  {
   "cell_type": "code",
   "execution_count": 13,
   "id": "9f50ee57",
   "metadata": {},
   "outputs": [
    {
     "name": "stdout",
     "output_type": "stream",
     "text": [
      "{'Contents': [{'ETag': '\"b10a8db164e0754105b7a99be72e3fe5\"',\n",
      "               'Key': 'test.txt',\n",
      "               'LastModified': datetime.datetime(2025, 10, 6, 13, 34, 42, tzinfo=tzutc()),\n",
      "               'Owner': {'ID': ''},\n",
      "               'Size': 11,\n",
      "               'StorageClass': 'STANDARD'},\n",
      "              {'ETag': '\"8856507a65a1b2f6ca15050b252b8f34\"',\n",
      "               'Key': 'xcoms/test_dag/manual__2025-10-03T21:21:17.938363+00:00/pass_pandas_df_in_xcom/c59df39d-c638-4ec4-91f4-a69d868e6127.gz',\n",
      "               'LastModified': datetime.datetime(2025, 10, 3, 21, 36, 54, tzinfo=tzutc()),\n",
      "               'Owner': {'ID': ''},\n",
      "               'Size': 1257,\n",
      "               'StorageClass': 'STANDARD'},\n",
      "              {'ETag': '\"434695db4935399f4b80e29874acfd02\"',\n",
      "               'Key': 'xcoms/test_dag/manual__2025-10-03T21:21:17.938363+00:00/pass_polars_df_in_xcom/4ceab817-3cc6-42a7-8582-440b90b22635.gz',\n",
      "               'LastModified': datetime.datetime(2025, 10, 3, 21, 36, 55, tzinfo=tzutc()),\n",
      "               'Owner': {'ID': ''},\n",
      "               'Size': 136,\n",
      "               'StorageClass': 'STANDARD'},\n",
      "              {'ETag': '\"0b268b5c088a532b67b367690ec96327\"',\n",
      "               'Key': 'xcoms/test_dag/manual__2025-10-03T21:29:12.816926+00:00/pass_pandas_df_in_xcom/0c12dc21-11d3-47d9-b2cb-55add6538566.gz',\n",
      "               'LastModified': datetime.datetime(2025, 10, 3, 21, 37, tzinfo=tzutc()),\n",
      "               'Owner': {'ID': ''},\n",
      "               'Size': 1257,\n",
      "               'StorageClass': 'STANDARD'},\n",
      "              {'ETag': '\"286c26e3ff35e13751e4000fa13a7dad\"',\n",
      "               'Key': 'xcoms/test_dag/manual__2025-10-03T21:29:12.816926+00:00/pass_polars_df_in_xcom/5386cd67-8a40-4d0f-857b-66fb157e83ab.gz',\n",
      "               'LastModified': datetime.datetime(2025, 10, 3, 21, 37, 2, tzinfo=tzutc()),\n",
      "               'Owner': {'ID': ''},\n",
      "               'Size': 136,\n",
      "               'StorageClass': 'STANDARD'},\n",
      "              {'ETag': '\"7b48a95ed170f314c901064cc52ddb74\"',\n",
      "               'Key': 'xcoms/test_dag/manual__2025-10-03T21:30:40.261982+00:00/pass_pandas_df_in_xcom/08384d74-070a-46a4-b0b8-b1e3d3376bbf.gz',\n",
      "               'LastModified': datetime.datetime(2025, 10, 3, 21, 36, 47, tzinfo=tzutc()),\n",
      "               'Owner': {'ID': ''},\n",
      "               'Size': 1257,\n",
      "               'StorageClass': 'STANDARD'},\n",
      "              {'ETag': '\"a9084370e9c162f77d4698559b3344ce\"',\n",
      "               'Key': 'xcoms/test_dag/manual__2025-10-03T21:30:40.261982+00:00/pass_polars_df_in_xcom/fd78ff2e-faaf-4d68-b453-3ad745f60f5b.gz',\n",
      "               'LastModified': datetime.datetime(2025, 10, 3, 21, 36, 49, tzinfo=tzutc()),\n",
      "               'Owner': {'ID': ''},\n",
      "               'Size': 136,\n",
      "               'StorageClass': 'STANDARD'},\n",
      "              {'ETag': '\"3ac66eccf4f9deaa3f751d0a2e86f1c6\"',\n",
      "               'Key': 'xcoms/test_dag/manual__2025-10-03T21:36:30.947874+00:00/pass_pandas_df_in_xcom/01cb98f2-2e2b-4fea-a00f-5b3cb0d035e4.gz',\n",
      "               'LastModified': datetime.datetime(2025, 10, 3, 21, 36, 33, tzinfo=tzutc()),\n",
      "               'Owner': {'ID': ''},\n",
      "               'Size': 1257,\n",
      "               'StorageClass': 'STANDARD'},\n",
      "              {'ETag': '\"fac4cb019b52710d10c40b38955b6955\"',\n",
      "               'Key': 'xcoms/test_dag/manual__2025-10-03T21:36:30.947874+00:00/pass_polars_df_in_xcom/a9bfc54b-0a79-40b2-9b61-932e0cc08541.gz',\n",
      "               'LastModified': datetime.datetime(2025, 10, 3, 21, 36, 34, tzinfo=tzutc()),\n",
      "               'Owner': {'ID': ''},\n",
      "               'Size': 136,\n",
      "               'StorageClass': 'STANDARD'},\n",
      "              {'ETag': '\"2ecd9f0fcdb994fdd266efb2ce7ff8e6\"',\n",
      "               'Key': 'xcoms/test_dag/manual__2025-10-03T21:40:52.265148+00:00/pass_pandas_df_in_xcom/323dd7fe-56fb-454b-9460-42f5b3356c78.gz',\n",
      "               'LastModified': datetime.datetime(2025, 10, 3, 21, 40, 53, tzinfo=tzutc()),\n",
      "               'Owner': {'ID': ''},\n",
      "               'Size': 1257,\n",
      "               'StorageClass': 'STANDARD'},\n",
      "              {'ETag': '\"fcba7674a84228d7d1c050789f46b182\"',\n",
      "               'Key': 'xcoms/test_dag/manual__2025-10-03T21:40:52.265148+00:00/pass_polars_df_in_xcom/bc7a6212-232e-4061-ace8-1b314e777b3d.gz',\n",
      "               'LastModified': datetime.datetime(2025, 10, 3, 21, 40, 55, tzinfo=tzutc()),\n",
      "               'Owner': {'ID': ''},\n",
      "               'Size': 136,\n",
      "               'StorageClass': 'STANDARD'},\n",
      "              {'ETag': '\"cc937f2c90a73aa59cf7f3f204f1db7b\"',\n",
      "               'Key': 'xcoms/test_dag/manual__2025-10-03T21:49:26.514823+00:00/pass_pandas_df_in_xcom/b3c0c5e7-8c7c-46f1-8f74-3f91f2268574.gz',\n",
      "               'LastModified': datetime.datetime(2025, 10, 3, 21, 49, 28, tzinfo=tzutc()),\n",
      "               'Owner': {'ID': ''},\n",
      "               'Size': 1257,\n",
      "               'StorageClass': 'STANDARD'},\n",
      "              {'ETag': '\"6b957ff85a62cf6b05d6c4acaf30ceff\"',\n",
      "               'Key': 'xcoms/test_dag/manual__2025-10-03T21:49:26.514823+00:00/pass_polars_df_in_xcom/fd097e63-7735-46af-8dda-0342258f5ee5.gz',\n",
      "               'LastModified': datetime.datetime(2025, 10, 3, 21, 49, 29, tzinfo=tzutc()),\n",
      "               'Owner': {'ID': ''},\n",
      "               'Size': 136,\n",
      "               'StorageClass': 'STANDARD'}],\n",
      " 'EncodingType': 'url',\n",
      " 'IsTruncated': False,\n",
      " 'KeyCount': 13,\n",
      " 'MaxKeys': 10000,\n",
      " 'Name': 'airflow',\n",
      " 'Prefix': '',\n",
      " 'ResponseMetadata': {'HTTPHeaders': {'accept-ranges': 'bytes',\n",
      "                                      'content-length': '4494',\n",
      "                                      'content-type': 'application/xml',\n",
      "                                      'date': 'Mon, 06 Oct 2025 13:34:51 GMT',\n",
      "                                      'server': 'SeaweedFS 30GB 3.93',\n",
      "                                      'x-amz-request-id': '1759757691585296051'},\n",
      "                      'HTTPStatusCode': 200,\n",
      "                      'HostId': '',\n",
      "                      'RequestId': '1759757691585296051',\n",
      "                      'RetryAttempts': 0}}\n"
     ]
    }
   ],
   "source": [
    "# show files in bucket\n",
    "response = s3.list_objects_v2(Bucket=bucket_name)\n",
    "pprint(response)"
   ]
  },
  {
   "cell_type": "code",
   "execution_count": 14,
   "id": "1497611e",
   "metadata": {},
   "outputs": [
    {
     "data": {
      "text/plain": [
       "{'ResponseMetadata': {'RequestId': '1759757691613424393',\n",
       "  'HostId': '',\n",
       "  'HTTPStatusCode': 200,\n",
       "  'HTTPHeaders': {'accept-ranges': 'bytes',\n",
       "   'content-length': '0',\n",
       "   'date': 'Mon, 06 Oct 2025 13:34:51 GMT',\n",
       "   'etag': '\"b10a8db164e0754105b7a99be72e3fe5\"',\n",
       "   'server': 'SeaweedFS 30GB 3.93',\n",
       "   'x-amz-request-id': '1759757691613424393'},\n",
       "  'RetryAttempts': 0},\n",
       " 'ETag': '\"b10a8db164e0754105b7a99be72e3fe5\"'}"
      ]
     },
     "execution_count": 14,
     "metadata": {},
     "output_type": "execute_result"
    }
   ],
   "source": [
    "s3.put_object(Bucket=bucket_name, Key=\"test.txt\", Body=b\"Hello World\")"
   ]
  },
  {
   "cell_type": "code",
   "execution_count": 15,
   "id": "734d88a4",
   "metadata": {},
   "outputs": [
    {
     "name": "stdout",
     "output_type": "stream",
     "text": [
      "b'Hello World'\n"
     ]
    }
   ],
   "source": [
    "# Download file\n",
    "response = s3.get_object(Bucket=bucket_name, Key=\"test.txt\")\n",
    "pprint(response[\"Body\"].read())"
   ]
  },
  {
   "cell_type": "code",
   "execution_count": 16,
   "id": "bb541d34",
   "metadata": {},
   "outputs": [
    {
     "name": "stdout",
     "output_type": "stream",
     "text": [
      "Lifecycle policy applied successfully\n"
     ]
    }
   ],
   "source": [
    "# Configure lifecycle policy to delete objects after 3 days\n",
    "lifecycle_config = {\n",
    "    \"Rules\": [\n",
    "        {\n",
    "            \"ID\": \"DeleteAfter3Days\",\n",
    "            \"Status\": \"Enabled\",\n",
    "            \"Filter\": {\"Prefix\": \"\"},  # Apply to all objects\n",
    "            \"Expiration\": {\"Days\": 3},\n",
    "        }\n",
    "    ]\n",
    "}\n",
    "\n",
    "try:\n",
    "    s3.put_bucket_lifecycle_configuration(\n",
    "        Bucket=bucket_name, LifecycleConfiguration=lifecycle_config\n",
    "    )\n",
    "    print(\"Lifecycle policy applied successfully\")\n",
    "except Exception as e:\n",
    "    print(f\"Error applying lifecycle policy: {e}\")"
   ]
  },
  {
   "cell_type": "code",
   "execution_count": 17,
   "id": "502e6f74",
   "metadata": {},
   "outputs": [
    {
     "name": "stdout",
     "output_type": "stream",
     "text": [
      "Current lifecycle configuration:\n",
      "[\n",
      "  {\n",
      "    \"Expiration\": {\n",
      "      \"Days\": 3\n",
      "    },\n",
      "    \"Prefix\": \"\",\n",
      "    \"Status\": \"Enabled\"\n",
      "  }\n",
      "]\n"
     ]
    }
   ],
   "source": [
    "import json\n",
    "\n",
    "# Verify lifecycle policy\n",
    "try:\n",
    "    response = s3.get_bucket_lifecycle_configuration(Bucket=bucket_name)\n",
    "    print(\"Current lifecycle configuration:\")\n",
    "    print(json.dumps(response[\"Rules\"], indent=2))\n",
    "except Exception as e:\n",
    "    print(f\"Error getting lifecycle policy: {e}\")"
   ]
  }
 ],
 "metadata": {
  "kernelspec": {
   "display_name": "dags",
   "language": "python",
   "name": "python3"
  },
  "language_info": {
   "codemirror_mode": {
    "name": "ipython",
    "version": 3
   },
   "file_extension": ".py",
   "mimetype": "text/x-python",
   "name": "python",
   "nbconvert_exporter": "python",
   "pygments_lexer": "ipython3",
   "version": "3.12.9"
  }
 },
 "nbformat": 4,
 "nbformat_minor": 5
}
