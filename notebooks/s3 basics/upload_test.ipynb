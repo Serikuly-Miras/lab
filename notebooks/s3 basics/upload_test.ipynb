{
 "cells": [
  {
   "cell_type": "code",
   "execution_count": 2,
   "id": "8e15ad04",
   "metadata": {},
   "outputs": [
    {
     "name": "stdout",
     "output_type": "stream",
     "text": [
      "{'Buckets': [{'CreationDate': datetime.datetime(2025, 9, 13, 15, 22, 48, tzinfo=tzutc()),\n",
      "              'Name': 'base'}],\n",
      " 'Owner': {'ID': ''},\n",
      " 'ResponseMetadata': {'HTTPHeaders': {'accept-ranges': 'bytes',\n",
      "                                      'content-length': '214',\n",
      "                                      'content-type': 'application/xml',\n",
      "                                      'date': 'Sat, 13 Sep 2025 19:23:19 GMT',\n",
      "                                      'server': 'SeaweedFS 30GB 3.93',\n",
      "                                      'x-amz-request-id': '1757791399987318421'},\n",
      "                      'HTTPStatusCode': 200,\n",
      "                      'HostId': '',\n",
      "                      'RequestId': '1757791399987318421',\n",
      "                      'RetryAttempts': 0}}\n"
     ]
    }
   ],
   "source": [
    "import boto3\n",
    "import urllib3\n",
    "import os\n",
    "from pprint import pprint\n",
    "from dotenv import load_dotenv\n",
    "\n",
    "load_dotenv()\n",
    "\n",
    "urllib3.disable_warnings(urllib3.exceptions.InsecureRequestWarning)\n",
    "\n",
    "# Create S3 client\n",
    "s3 = boto3.client(\n",
    "    \"s3\",\n",
    "    endpoint_url=\"https://swfs-s3.lab.s-miras.com/\",\n",
    "    aws_access_key_id=os.getenv(\"S3_AWS_ACCESS_KEY_ID\"),\n",
    "    aws_secret_access_key=os.getenv(\"S3_AWS_SECRET_ACCESS_KEY\"),\n",
    "    verify=False,\n",
    ")\n",
    "\n",
    "# List buckets\n",
    "response = s3.list_buckets()\n",
    "pprint(response)"
   ]
  },
  {
   "cell_type": "code",
   "execution_count": 3,
   "id": "83a8bf48",
   "metadata": {},
   "outputs": [],
   "source": [
    "bucket_name = \"base\""
   ]
  },
  {
   "cell_type": "code",
   "execution_count": 4,
   "id": "9f50ee57",
   "metadata": {},
   "outputs": [
    {
     "name": "stdout",
     "output_type": "stream",
     "text": [
      "{'Contents': [{'ETag': '\"b10a8db164e0754105b7a99be72e3fe5\"',\n",
      "               'Key': 'test.txt',\n",
      "               'LastModified': datetime.datetime(2025, 9, 13, 19, 6, 34, tzinfo=tzutc()),\n",
      "               'Owner': {'ID': ''},\n",
      "               'Size': 11,\n",
      "               'StorageClass': 'STANDARD'}],\n",
      " 'EncodingType': 'url',\n",
      " 'IsTruncated': False,\n",
      " 'KeyCount': 1,\n",
      " 'MaxKeys': 10000,\n",
      " 'Name': 'base',\n",
      " 'Prefix': '',\n",
      " 'ResponseMetadata': {'HTTPHeaders': {'accept-ranges': 'bytes',\n",
      "                                      'content-length': '488',\n",
      "                                      'content-type': 'application/xml',\n",
      "                                      'date': 'Sat, 13 Sep 2025 19:23:20 GMT',\n",
      "                                      'server': 'SeaweedFS 30GB 3.93',\n",
      "                                      'x-amz-request-id': '1757791400001263260'},\n",
      "                      'HTTPStatusCode': 200,\n",
      "                      'HostId': '',\n",
      "                      'RequestId': '1757791400001263260',\n",
      "                      'RetryAttempts': 0}}\n"
     ]
    }
   ],
   "source": [
    "# show files in bucket\n",
    "response = s3.list_objects_v2(Bucket=bucket_name)\n",
    "pprint(response)"
   ]
  },
  {
   "cell_type": "code",
   "execution_count": 5,
   "id": "2f085d9f",
   "metadata": {},
   "outputs": [
    {
     "name": "stdout",
     "output_type": "stream",
     "text": [
      "('Error creating bucket: An error occurred (BucketAlreadyExists) when calling '\n",
      " 'the CreateBucket operation: The requested bucket name is not available. The '\n",
      " 'bucket name can not be an existing collection, and the bucket namespace is '\n",
      " 'shared by all users of the system. Please select a different name and try '\n",
      " 'again.')\n"
     ]
    }
   ],
   "source": [
    "# Create bucket\n",
    "try:\n",
    "    s3.create_bucket(Bucket=bucket_name)\n",
    "    pprint(f\"Bucket '{bucket_name}' created successfully\")\n",
    "except Exception as e:\n",
    "    pprint(f\"Error creating bucket: {e}\")"
   ]
  },
  {
   "cell_type": "code",
   "execution_count": 6,
   "id": "1497611e",
   "metadata": {},
   "outputs": [
    {
     "data": {
      "text/plain": [
       "{'ResponseMetadata': {'RequestId': '1757791400036352106',\n",
       "  'HostId': '',\n",
       "  'HTTPStatusCode': 200,\n",
       "  'HTTPHeaders': {'accept-ranges': 'bytes',\n",
       "   'content-length': '0',\n",
       "   'date': 'Sat, 13 Sep 2025 19:23:20 GMT',\n",
       "   'etag': '\"b10a8db164e0754105b7a99be72e3fe5\"',\n",
       "   'server': 'SeaweedFS 30GB 3.93',\n",
       "   'x-amz-request-id': '1757791400036352106'},\n",
       "  'RetryAttempts': 0},\n",
       " 'ETag': '\"b10a8db164e0754105b7a99be72e3fe5\"'}"
      ]
     },
     "execution_count": 6,
     "metadata": {},
     "output_type": "execute_result"
    }
   ],
   "source": [
    "s3.put_object(Bucket=bucket_name, Key=\"test.txt\", Body=b\"Hello World\")"
   ]
  },
  {
   "cell_type": "code",
   "execution_count": 7,
   "id": "734d88a4",
   "metadata": {},
   "outputs": [
    {
     "name": "stdout",
     "output_type": "stream",
     "text": [
      "b'Hello World'\n"
     ]
    }
   ],
   "source": [
    "# Download file\n",
    "response = s3.get_object(Bucket=bucket_name, Key=\"test.txt\")\n",
    "pprint(response[\"Body\"].read())"
   ]
  }
 ],
 "metadata": {
  "kernelspec": {
   "display_name": "notebooks",
   "language": "python",
   "name": "python3"
  },
  "language_info": {
   "codemirror_mode": {
    "name": "ipython",
    "version": 3
   },
   "file_extension": ".py",
   "mimetype": "text/x-python",
   "name": "python",
   "nbconvert_exporter": "python",
   "pygments_lexer": "ipython3",
   "version": "3.12.9"
  }
 },
 "nbformat": 4,
 "nbformat_minor": 5
}
